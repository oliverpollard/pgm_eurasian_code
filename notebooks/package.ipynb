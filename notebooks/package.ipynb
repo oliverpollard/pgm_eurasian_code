{
 "cells": [
  {
   "cell_type": "code",
   "execution_count": 1,
   "id": "b292d3d8",
   "metadata": {},
   "outputs": [
    {
     "data": {
      "application/vnd.jupyter.widget-view+json": {
       "model_id": "d1e895f8b48949549607e0da8918447d",
       "version_major": 2,
       "version_minor": 0
      },
      "text/plain": [
       "  0%|          | 0/1000 [00:00<?, ?it/s]"
      ]
     },
     "metadata": {},
     "output_type": "display_data"
    }
   ],
   "source": [
    "from pathlib import Path\n",
    "from tqdm.auto import tqdm\n",
    "\n",
    "for ensemble_idx in tqdm(range(1000)):\n",
    "    output_dir = Path(f\"output_raw/{ensemble_idx}/\")\n",
    "    (output_dir / \"0\").mkdir(exist_ok=True)\n",
    "    thickness_file = output_dir / \"0/thickness.xyz\"\n",
    "    if not thickness_file.exists():\n",
    "        num_split_margins = len([i for i in output_dir.iterdir() if i.stem == \"contours\"])\n",
    "        with open(thickness_file, mode=\"w\") as thickness:\n",
    "            for output_suffix in range(num_split_margins):\n",
    "                contour_file = Path(output_dir / (\"contours.\" + str(output_suffix+1)))\n",
    "                with open(str(contour_file), mode=\"r\") as contours:\n",
    "                    for line in contours:\n",
    "                        if not line.startswith(\" >\"):\n",
    "                            split_line = line.split()\n",
    "                            x = float(split_line[0])\n",
    "                            y = float(split_line[1])\n",
    "                            z = float(split_line[3])\n",
    "                            thickness.write(f\"{x:.5f} {y:.5f} {z:.5f}\\n\")"
   ]
  },
  {
   "cell_type": "code",
   "execution_count": 5,
   "id": "e8d0daba",
   "metadata": {},
   "outputs": [],
   "source": [
    "for idx in range(1000):\n",
    "    if not Path(f\"output_gridded_topo1/{idx}/laea_5km_eurasia.nc\").exists():\n",
    "        print(idx)"
   ]
  },
  {
   "cell_type": "code",
   "execution_count": null,
   "id": "0ebf21f0",
   "metadata": {},
   "outputs": [],
   "source": []
  }
 ],
 "metadata": {
  "kernelspec": {
   "display_name": "Python 3 (ipykernel)",
   "language": "python",
   "name": "python3"
  },
  "language_info": {
   "codemirror_mode": {
    "name": "ipython",
    "version": 3
   },
   "file_extension": ".py",
   "mimetype": "text/x-python",
   "name": "python",
   "nbconvert_exporter": "python",
   "pygments_lexer": "ipython3",
   "version": "3.10.10"
  }
 },
 "nbformat": 4,
 "nbformat_minor": 5
}
