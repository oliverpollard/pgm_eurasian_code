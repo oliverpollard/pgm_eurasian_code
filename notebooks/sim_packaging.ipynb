{
 "cells": [
  {
   "cell_type": "code",
   "execution_count": null,
   "id": "5fe4fc4b",
   "metadata": {},
   "outputs": [],
   "source": [
    "import xarray as xr\n",
    "import numpy as np"
   ]
  },
  {
   "cell_type": "markdown",
   "id": "14220a19",
   "metadata": {},
   "source": [
    "# Last Deglaciation"
   ]
  },
  {
   "cell_type": "code",
   "execution_count": null,
   "id": "dfc40121",
   "metadata": {},
   "outputs": [],
   "source": [
    "ds = xr.open_dataset(\"../runs/glac1d/outputs_gridded/0/laea_5km_eurasia.nc\")\n",
    "\n",
    "shape = ds.ice_thickness.values.shape\n",
    "x = ds.x.values\n",
    "y = ds.y.values\n",
    "times = ds.time.values\n",
    "crs = ds.rio.crs\n",
    "\n",
    "dA = np.abs(x[1] - x[0]) * np.abs(y[1] - y[0])"
   ]
  },
  {
   "cell_type": "code",
   "execution_count": null,
   "id": "92cfd588",
   "metadata": {},
   "outputs": [],
   "source": [
    "def package_output(run_dir, n_members, times, x, y, crs, attrs=None):\n",
    "    run_dir = Path(run_dir)\n",
    "    \n",
    "    ice_thickness = np.zeros((n_members,*shape))\n",
    "    shearstress = np.zeros((n_members,*shape))\n",
    "    topography = np.zeros((shape))\n",
    "\n",
    "    for t_idx, time in enumerate(times):\n",
    "        topo_ds = xr.open_dataset(run_dir / f\"inputs/topography/{time}/topography.nc\")\n",
    "        topography[t_idx] = topo_ds.z.values\n",
    "\n",
    "    for idx in tqdm(range(n_members)):\n",
    "        ice_ds = xr.open_dataset(run_dir / f\"outputs_gridded/{idx}/laea_5km_eurasia.nc\")\n",
    "        ice_thickness[idx] = ice_ds.ice_thickness.values\n",
    "        for t_idx, time in enumerate(times):\n",
    "            shearstress_ds = xr.open_dataset(run_dir / f\"inputs/shearstress/{time}/{idx}/shearstress.nc\")\n",
    "            shearstress[idx, t_idx] = shearstress_ds.z.values\n",
    "\n",
    "\n",
    "    ds = xr.Dataset(\n",
    "        data_vars=dict(\n",
    "            ice_thickness=(\n",
    "                [\"ensemble_index\", \"time\", \"y\", \"x\"],\n",
    "                ice_thickness,\n",
    "            ),\n",
    "            bedrock_topography=(\n",
    "                [\"time\", \"y\", \"x\"],\n",
    "                topography,\n",
    "            ),\n",
    "            basal_shearstress=(\n",
    "                [\"ensemble_index\", \"time\", \"y\", \"x\"],\n",
    "                shearstress,\n",
    "            ),\n",
    "        ),\n",
    "        coords={\n",
    "            \"ensemble_index\": list(range(n_members)),\n",
    "            \"time\": times,\n",
    "            \"y\": y,\n",
    "            \"x\": x,\n",
    "        },\n",
    "        attrs=attrs,\n",
    "    )\n",
    "    ds.rio.write_crs(crs, inplace=True)\n",
    "    return ds\n",
    "\n"
   ]
  },
  {
   "cell_type": "code",
   "execution_count": null,
   "id": "3ac3d4f6",
   "metadata": {},
   "outputs": [],
   "source": [
    "glad1d_ds = package_output(\n",
    "    run_dir = \"paper1_data/icesheet_runs/glac1d/\",\n",
    "    n_members = 200,\n",
    "    times = times,\n",
    "    x = x,\n",
    "    y = y,\n",
    "    crs = crs\n",
    ")\n",
    "glad1d_ds.to_netcdf(f\"glac1d_icesheet.nc\")"
   ]
  },
  {
   "cell_type": "code",
   "execution_count": null,
   "id": "c3c6113b",
   "metadata": {},
   "outputs": [],
   "source": [
    "glad1d_corners_ds = package_output(\n",
    "    run_dir = \"paper1_data/icesheet_runs/glac1d/corners/\",\n",
    "    n_members = 128,\n",
    "    times = times,\n",
    "    x = x,\n",
    "    y = y,\n",
    "    crs = crs\n",
    ")\n",
    "glad1d_corners_ds.to_netcdf(f\"glac1d_icesheet_corners.nc\")"
   ]
  },
  {
   "cell_type": "code",
   "execution_count": null,
   "id": "582efd8d",
   "metadata": {},
   "outputs": [],
   "source": [
    "ice6g_ds = package_output(\n",
    "    run_dir = \"paper1_data/icesheet_runs/ice6g/\",\n",
    "    n_members = 200,\n",
    "    times = times,\n",
    "    x = x,\n",
    "    y = y,\n",
    "    crs = crs\n",
    ")\n",
    "ice6g_ds.to_netcdf(f\"glac1d_icesheet.nc\")"
   ]
  },
  {
   "cell_type": "code",
   "execution_count": null,
   "id": "690f448e",
   "metadata": {},
   "outputs": [],
   "source": [
    "ice6g_corners_ds = package_output(\n",
    "    run_dir = \"paper1_data/icesheet_runs/ice6g/corners\",\n",
    "    n_members = 128,\n",
    "    times = times,\n",
    "    x = x,\n",
    "    y = y,\n",
    "    crs = crs\n",
    ")\n",
    "ice6g_corners_ds.to_netcdf(f\"glac1d_icesheet.nc\")"
   ]
  },
  {
   "cell_type": "markdown",
   "id": "de02fe4d",
   "metadata": {},
   "source": [
    "# PGM"
   ]
  },
  {
   "cell_type": "code",
   "execution_count": null,
   "id": "22541104",
   "metadata": {},
   "outputs": [],
   "source": [
    "ds = xr.open_dataset(\"paper1_data/icesheet_runs/batchelor/outputs_gridded/0/laea_5km_eurasia.nc\")\n",
    "\n",
    "shape = ds.ice_thickness.values.shape\n",
    "x = ds.x.values\n",
    "y = ds.y.values\n",
    "time = ds.time.values\n",
    "\n",
    "dA = np.abs(x[1] - x[0]) * np.abs(y[1] - y[0])"
   ]
  },
  {
   "cell_type": "code",
   "execution_count": null,
   "id": "eb00db7e",
   "metadata": {},
   "outputs": [],
   "source": [
    "ice_thickness = np.zeros((200,*shape))\n",
    "shearstress = np.zeros((200,*shape))\n",
    "topography = np.zeros((shape))\n",
    "\n",
    "topo_ds = xr.open_dataset(f\"paper1_data/icesheet_runs/batchelor/topo_iteration_0/inputs/topography/topography.nc\")\n",
    "topography[0] = topo_ds.z.values\n",
    "\n",
    "for idx in tqdm(range(200)):\n",
    "    ice_ds = xr.open_dataset(f\"paper1_data/icesheet_runs/batchelor/topo_iteration_0/outputs_gridded/{idx}/laea_5km_eurasia.nc\")\n",
    "    ice_thickness[idx] = ice_ds.ice_thickness.values\n",
    "    \n",
    "    shearstress_ds = xr.open_dataset(f\"paper1_data/icesheet_runs/batchelor/topo_iteration_0/inputs/shearstress/-140000/{idx}/shearstress.nc\")\n",
    "    shearstress[idx] = shearstress_ds.z.values\n",
    "\n",
    "batchelor_topo_0_ds = xr.Dataset(\n",
    "    data_vars=dict(\n",
    "        ice_thickness=(\n",
    "            [\"ensemble_index\", \"time\", \"y\", \"x\"],\n",
    "            ice_thickness,\n",
    "        ),\n",
    "        bedrock_topography=(\n",
    "            [\"time\", \"y\", \"x\"],\n",
    "            topography,\n",
    "        ),\n",
    "        basal_shearstress=(\n",
    "            [\"ensemble_index\", \"time\", \"y\", \"x\"],\n",
    "            shearstress,\n",
    "        ),\n",
    "    ),\n",
    "    coords={\n",
    "        \"ensemble_index\": list(range(200)),\n",
    "        \"time\": time,\n",
    "        \"y\": y,\n",
    "        \"x\": x,\n",
    "    },\n",
    "    attrs=None,\n",
    ")\n",
    "batchelor_topo_0_ds.rio.write_crs(ds.rio.crs, inplace=True)\n",
    "batchelor_topo_0_ds.to_netcdf(f\"batchelor_topo_0.nc\")"
   ]
  },
  {
   "cell_type": "code",
   "execution_count": null,
   "id": "54f27234",
   "metadata": {},
   "outputs": [],
   "source": [
    "ice_thickness = np.zeros((200,*shape))\n",
    "shearstress = np.zeros((200,*shape))\n",
    "topography = np.zeros((200,*shape))\n",
    "\n",
    "for idx in tqdm(range(200)):\n",
    "    ice_ds = xr.open_dataset(f\"paper1_data/icesheet_runs/batchelor/topo_iteration_1/outputs_gridded/{idx}/laea_5km_eurasia.nc\")\n",
    "    ice_thickness[idx] = ice_ds.ice_thickness.values\n",
    "    \n",
    "    shearstress_ds = xr.open_dataset(f\"paper1_data/icesheet_runs/batchelor/topo_iteration_1/inputs/shearstress/{idx}/shearstress.nc\")\n",
    "    shearstress[idx] = shearstress_ds.z.values\n",
    "    \n",
    "    topo_ds = xr.open_dataset(f\"paper1_data/icesheet_runs/batchelor/topo_iteration_1/inputs/topography/-140000/{idx}/topography.nc\")\n",
    "    topography[idx] = topo_ds.z.values\n",
    "\n",
    "batchelor_topo_1_ds = xr.Dataset(\n",
    "    data_vars=dict(\n",
    "        ice_thickness=(\n",
    "            [\"ensemble_index\", \"time\", \"y\", \"x\"],\n",
    "            ice_thickness,\n",
    "        ),\n",
    "        bedrock_topography=(\n",
    "            [\"ensemble_index\", \"time\", \"y\", \"x\"],\n",
    "            topography,\n",
    "        ),\n",
    "        basal_shearstress=(\n",
    "            [\"ensemble_index\", \"time\", \"y\", \"x\"],\n",
    "            shearstress,\n",
    "        ),\n",
    "    ),\n",
    "    coords={\n",
    "        \"ensemble_index\": list(range(200)),\n",
    "        \"time\": time,\n",
    "        \"y\": y,\n",
    "        \"x\": x,\n",
    "    },\n",
    "    attrs=None,\n",
    ")\n",
    "batchelor_topo_1_ds.rio.write_crs(ds.rio.crs, inplace=True)\n",
    "batchelor_topo_1_ds.to_netcdf(f\"batchelor_topo_1.nc\")"
   ]
  }
 ],
 "metadata": {
  "kernelspec": {
   "display_name": "Python 3 (ipykernel)",
   "language": "python",
   "name": "python3"
  },
  "language_info": {
   "codemirror_mode": {
    "name": "ipython",
    "version": 3
   },
   "file_extension": ".py",
   "mimetype": "text/x-python",
   "name": "python",
   "nbconvert_exporter": "python",
   "pygments_lexer": "ipython3",
   "version": "3.9.15"
  }
 },
 "nbformat": 4,
 "nbformat_minor": 5
}
