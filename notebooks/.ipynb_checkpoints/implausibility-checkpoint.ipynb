{
 "cells": [
  {
   "cell_type": "code",
   "execution_count": 84,
   "id": "ae57c933",
   "metadata": {},
   "outputs": [],
   "source": [
    "import numpy as np\n",
    "import xarray as xr\n",
    "import pandas as pd\n",
    "from pathlib import Path\n",
    "\n",
    "from scipy.interpolate import LinearNDInterpolator"
   ]
  },
  {
   "cell_type": "code",
   "execution_count": 85,
   "id": "e2d1d987",
   "metadata": {},
   "outputs": [],
   "source": [
    "def calc_implausibility(reconstruction_data, model_data, times):\n",
    "    reconstruction_mean = np.mean(reconstruction_data, axis=0)\n",
    "    reconstruction_var = np.var(reconstruction_data, axis=0)\n",
    "\n",
    "    model_mean = np.transpose(np.mean(model_data, axis=0), (1,0,2))\n",
    "    model_var = np.transpose(np.var(model_data, axis=0), (1,0,2))\n",
    "\n",
    "    metric_means = (reconstruction_mean - model_mean)**2\n",
    "\n",
    "    model_bias = 0.1\n",
    "    region_bias = np.ones_like(model_var)\n",
    "    region_bias[:,0,:] = 0.5\n",
    "    region_bias[:,1,:] = 1\n",
    "    region_bias[:,2,:] = 0.1\n",
    "\n",
    "    metric_vars =  (reconstruction_var + (model_var * model_bias * region_bias))\n",
    "\n",
    "    implausibility = np.sqrt(metric_means / metric_vars)\n",
    "    implausibility_mean = implausibility.mean(axis=(1,2)).copy()\n",
    "\n",
    "    nroy = implausibility<=3\n",
    "    nroy_mean = implausibility_mean<=3\n",
    "\n",
    "    implausibility_ds = xr.Dataset(\n",
    "        data_vars=dict(\n",
    "            implausibility = (\n",
    "                [\"ensemble_idx\", \"region\", \"time\"],\n",
    "                implausibility\n",
    "            ),\n",
    "            implausibility_mean = (\n",
    "                [\"ensemble_idx\"],\n",
    "                implausibility_mean\n",
    "            ),\n",
    "            nroy = (\n",
    "                [\"ensemble_idx\", \"region\", \"time\"],\n",
    "                nroy\n",
    "            ),\n",
    "            nroy_mean = (\n",
    "                [\"ensemble_idx\"],\n",
    "                nroy_mean\n",
    "            ),\n",
    "            model_bias=(\n",
    "                model_bias)\n",
    "            ,\n",
    "            region_bias=(\n",
    "                [\"region\"], region_bias[0,:,0])\n",
    "            ,\n",
    "        ),\n",
    "        coords=dict(\n",
    "            ensemble_idx=np.arange(len(implausibility_mean)),\n",
    "            region=([\"bks\", \"f\", \"bi\"]),\n",
    "            time=times,\n",
    "        )\n",
    "    )\n",
    "    return implausibility_ds"
   ]
  },
  {
   "cell_type": "markdown",
   "id": "7493063a",
   "metadata": {},
   "source": [
    "# Last Deglaciation Implausibility"
   ]
  },
  {
   "cell_type": "code",
   "execution_count": 86,
   "id": "ea0a2d6d",
   "metadata": {},
   "outputs": [],
   "source": [
    "analytics_dir = Path(\"../../data/analytics\")\n",
    "\n",
    "rec_ld_glac1d_analytics_ds = xr.open_dataset(analytics_dir / \"rec_ld_glac1d_analytics.nc\")\n",
    "rec_ld_ice6g_analytics_ds = xr.open_dataset(analytics_dir / \"rec_ld_ice6g_analytics.nc\")\n",
    "sim_ld_glac1d_analytics_ds = xr.open_dataset(analytics_dir / \"sim_ld_glac1d_analytics.nc\")\n",
    "sim_ld_glac1d_corners_analytics_ds = xr.open_dataset(analytics_dir / \"sim_ld_glac1d_corners_analytics.nc\")\n",
    "sim_ld_ice6g_analytics_ds = xr.open_dataset(analytics_dir / \"sim_ld_ice6g_analytics.nc\")\n",
    "sim_ld_ice6g_corners_analytics_ds = xr.open_dataset(analytics_dir / \"sim_ld_ice6g_corners_analytics.nc\")\n"
   ]
  },
  {
   "cell_type": "code",
   "execution_count": 87,
   "id": "ea03242a",
   "metadata": {},
   "outputs": [],
   "source": [
    "times = sim_ld_ice6g_analytics_ds.time.values"
   ]
  },
  {
   "cell_type": "code",
   "execution_count": 88,
   "id": "da2f8a1f",
   "metadata": {},
   "outputs": [],
   "source": [
    "reconstruction_data = np.array(\n",
    "    [\n",
    "        rec_ld_glac1d_analytics_ds.region_ice_volume, \n",
    "        rec_ld_ice6g_analytics_ds.region_ice_volume\n",
    "    ]\n",
    ")"
   ]
  },
  {
   "cell_type": "code",
   "execution_count": 89,
   "id": "79da97ed",
   "metadata": {},
   "outputs": [],
   "source": [
    "model_data = np.array(\n",
    "    [\n",
    "        sim_ld_glac1d_analytics_ds.region_ice_volume,\n",
    "        sim_ld_ice6g_analytics_ds.region_ice_volume,\n",
    "    ]\n",
    ")"
   ]
  },
  {
   "cell_type": "code",
   "execution_count": 90,
   "id": "4d193191",
   "metadata": {},
   "outputs": [],
   "source": [
    "ld_implausilibity_ds = calc_implausibility(reconstruction_data, model_data, times)\n",
    "ld_implausilibity_ds.to_netcdf(\"../../data/implausibility/ld_implausibility.nc\")"
   ]
  },
  {
   "cell_type": "code",
   "execution_count": 91,
   "id": "27fddab1",
   "metadata": {},
   "outputs": [],
   "source": [
    "model_data = np.array(\n",
    "    [\n",
    "        sim_ld_glac1d_corners_analytics_ds.region_ice_volume,\n",
    "        sim_ld_ice6g_corners_analytics_ds.region_ice_volume,\n",
    "    ]\n",
    ")"
   ]
  },
  {
   "cell_type": "code",
   "execution_count": 92,
   "id": "151cbdde",
   "metadata": {},
   "outputs": [],
   "source": [
    "ld_corners_implausilibity_ds = calc_implausibility(reconstruction_data, model_data, times)\n",
    "ld_implausilibity_ds.to_netcdf(\"../../data/implausibility/ld_corners_implausibility.nc\")"
   ]
  },
  {
   "cell_type": "markdown",
   "id": "af0086d0",
   "metadata": {},
   "source": [
    "# PGM Implausibility"
   ]
  },
  {
   "cell_type": "code",
   "execution_count": 93,
   "id": "00370ae2",
   "metadata": {},
   "outputs": [],
   "source": [
    "ld_corners_values = pd.read_csv(\"../../data/param_sample/ld_corners_values.csv\")\n",
    "ld_lhs_values = pd.read_csv(\"../../data/param_sample/ld_lhs_values.csv\")\n",
    "pgm_lhs_values = pd.read_csv(\"../../data/param_sample/pgm_lhs_values.csv\")\n",
    "\n",
    "interp_param_names = list(ld_lhs_values.columns)\n",
    "pgm_lhs_values = pgm_lhs_values[interp_param_names]\n"
   ]
  },
  {
   "cell_type": "code",
   "execution_count": 94,
   "id": "d0ba98e6",
   "metadata": {},
   "outputs": [],
   "source": [
    "ld_values = pd.concat([ld_lhs_values, ld_corners_values])\n",
    "ld_values_norm = (ld_values - ld_values.min())/(ld_values.max() - ld_values.min())\n",
    "pgm_lhs_values_norm = (pgm_lhs_values - ld_values.min())/(ld_values.max() - ld_values.min())\n",
    "\n",
    "ld_values_norm_concat = ld_values_norm.values"
   ]
  },
  {
   "cell_type": "code",
   "execution_count": 95,
   "id": "e16208c3",
   "metadata": {},
   "outputs": [],
   "source": [
    "implausibility_mean_concat = np.concatenate([\n",
    "    ld_implausilibity_ds.implausibility_mean.values,\n",
    "    ld_corners_implausilibity_ds.implausibility_mean.values\n",
    "])"
   ]
  },
  {
   "cell_type": "code",
   "execution_count": null,
   "id": "2c2ac58b",
   "metadata": {},
   "outputs": [],
   "source": [
    "interp = LinearNDInterpolator(\n",
    "    ld_values_norm_concat, \n",
    "    implausibility_mean_concat\n",
    ")\n",
    "pgm_implausiblity = interp(pgm_lhs_values_norm)\n",
    "pgm_nroy = pgm_implausiblity <=3"
   ]
  },
  {
   "cell_type": "code",
   "execution_count": null,
   "id": "8a53db74",
   "metadata": {},
   "outputs": [],
   "source": [
    "implausibility_ds = xr.Dataset(\n",
    "        data_vars=dict(\n",
    "            implausibility = (\n",
    "                [\"ensemble_idx\"],\n",
    "                pgm_implausiblity\n",
    "            ),\n",
    "            nroy = (\n",
    "                [\"ensemble_idx\"],\n",
    "                pgm_nroy\n",
    "            ),\n",
    "        ),\n",
    "        coords=dict(\n",
    "            ensemble_idx=np.arange(len(pgm_implausiblity)),\n",
    "        )\n",
    "    )\n",
    "ld_implausilibity_ds.to_netcdf(\"../../data/implausibility/pgm_implausibility.nc\")"
   ]
  },
  {
   "cell_type": "code",
   "execution_count": null,
   "id": "d089e637",
   "metadata": {},
   "outputs": [],
   "source": []
  }
 ],
 "metadata": {
  "kernelspec": {
   "display_name": "Python 3 (ipykernel)",
   "language": "python",
   "name": "python3"
  },
  "language_info": {
   "codemirror_mode": {
    "name": "ipython",
    "version": 3
   },
   "file_extension": ".py",
   "mimetype": "text/x-python",
   "name": "python",
   "nbconvert_exporter": "python",
   "pygments_lexer": "ipython3",
   "version": "3.9.15"
  }
 },
 "nbformat": 4,
 "nbformat_minor": 5
}
