{
 "cells": [
  {
   "cell_type": "code",
   "execution_count": 1,
   "id": "august-banks",
   "metadata": {},
   "outputs": [],
   "source": [
    "import numpy as np\n",
    "from pathlib import Path\n",
    "from tqdm.auto import tqdm\n",
    "from time import sleep"
   ]
  },
  {
   "cell_type": "code",
   "execution_count": null,
   "id": "a51c514e",
   "metadata": {},
   "outputs": [],
   "source": [
    "from icesea2.gridtools import grid_icesheet_pool"
   ]
  },
  {
   "cell_type": "code",
   "execution_count": 3,
   "id": "miniature-breathing",
   "metadata": {},
   "outputs": [],
   "source": [
    "dx = 5000\n",
    "dy = 5000\n",
    "x_min = -1265453.0\n",
    "x_max = 4159547.0\n",
    "y_min = -4722734.8\n",
    "y_max = 1352265.2\n",
    "\n",
    "grid_crs = '+ellps=WGS84 +proj=laea +lon_0=0.0 +lat_0=90 +x_0=0.0 +y_0=0.0 +no_defs'\n",
    "\n",
    "laea_5km_eurasia_grid_data = dict(grid_name = \"laea_5km_eurasia\",\n",
    "                 grid_x = grid_x,\n",
    "                 grid_y = grid_y,\n",
    "                 nonuniform_x = False,\n",
    "                 nonuniform_y = False,\n",
    "                 grid_proj = grid_crs)\n",
    "\n",
    "grids_data = [laea_5km_eurasia_grid_data]\n",
    "\n",
    "run_dir = \"/nfs/annie/cm15ogp/phd/paper1/paper1_data/icesheet_runs/batchelor/topo_iteration_1/\"\n",
    "margins_dir = \"/nfs/annie/cm15ogp/phd/data/ice_margins/batchelor_quickfix/\"\n",
    "times = [-140000]"
   ]
  },
  {
   "cell_type": "code",
   "execution_count": null,
   "id": "27a8674d",
   "metadata": {},
   "outputs": [],
   "source": [
    "run_dir = \"/nfs/annie/cm15ogp/phd/paper1/paper1_data/icesheet_runs/ice6g/corners/\"\n",
    "margins_dir = \"/nfs/annie/cm15ogp/phd/data/ice_margins/ice6g/smooth_v2_topoclip_mod_-1km/\"\n",
    "times = [-22000,-20000,-18000,-16000]"
   ]
  },
  {
   "cell_type": "code",
   "execution_count": null,
   "id": "d59faa65",
   "metadata": {},
   "outputs": [],
   "source": [
    "run_dir = \"/nfs/annie/cm15ogp/phd/paper1/paper1_data/icesheet_runs/glac1d/corners/\"\n",
    "margins_dir = \"/nfs/annie/cm15ogp/phd/data/ice_margins/glac1d/smooth_v1_topoclip_mod_-1km/\"\n",
    "times = [-22000,-20000,-18000,-16000]"
   ]
  },
  {
   "cell_type": "code",
   "execution_count": null,
   "id": "daf33169",
   "metadata": {},
   "outputs": [],
   "source": [
    "grid_x = np.arange(x_min, x_max+dx, dx)\n",
    "grid_y = np.arange(y_min, y_max+dy, dy)"
   ]
  },
  {
   "cell_type": "code",
   "execution_count": 5,
   "id": "documented-impossible",
   "metadata": {},
   "outputs": [
    {
     "name": "stdout",
     "output_type": "stream",
     "text": [
      "10\n"
     ]
    }
   ],
   "source": [
    "run_dir = Path(run_dir)\n",
    "\n",
    "gridding_configs = []\n",
    "grid_names = [grid['grid_name'] for grid in grids_data]\n",
    "for member in range(200):\n",
    "    (run_dir / f\"outputs_gridded/{member}/\").mkdir(exist_ok=True, parents=True)\n",
    "    if not (run_dir / f\"outputs_gridded/{member}/laea_5km_eurasia.nc\").exists():\n",
    "        gridding_configs.append(\n",
    "            (\n",
    "                str(run_dir / f\"outputs_raw/{member}\")+\"/\",\n",
    "                grid_crs,\n",
    "                margins_dir,\n",
    "                times,\n",
    "                grids_data,\n",
    "                str(run_dir / f\"outputs_gridded/{member}\")+\"/\",\n",
    "                None,\n",
    "            )\n",
    "        )"
   ]
  },
  {
   "cell_type": "code",
   "execution_count": 8,
   "id": "demonstrated-explanation",
   "metadata": {},
   "outputs": [],
   "source": [
    "grid_icesheet_pool(gridding_configs, cores=10)"
   ]
  }
 ],
 "metadata": {
  "kernelspec": {
   "display_name": "Python 3 (ipykernel)",
   "language": "python",
   "name": "python3"
  },
  "language_info": {
   "codemirror_mode": {
    "name": "ipython",
    "version": 3
   },
   "file_extension": ".py",
   "mimetype": "text/x-python",
   "name": "python",
   "nbconvert_exporter": "python",
   "pygments_lexer": "ipython3",
   "version": "3.9.15"
  }
 },
 "nbformat": 4,
 "nbformat_minor": 5
}
