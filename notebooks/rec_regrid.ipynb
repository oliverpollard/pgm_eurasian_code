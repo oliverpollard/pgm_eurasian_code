{
 "cells": [
  {
   "cell_type": "code",
   "execution_count": null,
   "id": "human-devil",
   "metadata": {},
   "outputs": [],
   "source": [
    "import numpy as np\n",
    "import xarray as xr\n",
    "import rioxarray\n",
    "from icesea2.gridtools import regrid"
   ]
  },
  {
   "cell_type": "code",
   "execution_count": null,
   "id": "improving-network",
   "metadata": {},
   "outputs": [],
   "source": [
    "dx = 5000\n",
    "dy = 5000\n",
    "x_min = -1265453.0\n",
    "x_max = 4159547.0\n",
    "y_min = -4722734.8\n",
    "y_max = 1352265.2\n",
    "\n",
    "\n",
    "new_proj = dict(crs = '+ellps=WGS84 +proj=laea +lon_0=0.0 +lat_0=90 +x_0=0.0 +y_0=0.0 +no_defs',\n",
    "    xRes=dx,\n",
    "    yRes=dy,\n",
    "    minX= x_min - dx/2,\n",
    "    maxX= x_max + dx/2,\n",
    "    minY= y_min - dy/2,\n",
    "    maxY= y_max + dy/2)"
   ]
  },
  {
   "cell_type": "code",
   "execution_count": null,
   "id": "dutch-shame",
   "metadata": {},
   "outputs": [],
   "source": [
    "regrid(netcdf_file=\"/nfs/annie/cm15ogp/phd/paper1/col_topo1.nc\", \n",
    "       var_names=[\n",
    "            \"htopo\",\n",
    "            \"ice\",\n",
    "            \"landfract\",\n",
    "            \"landmask\",\n",
    "            \"variance\"\n",
    "        ],\n",
    "       new_proj=new_proj, \n",
    "       data_crs=\"EPSG:4326\",\n",
    "       save=\"/nfs/annie/cm15ogp/phd/paper1/col_topo1_reproj.nc\")"
   ]
  },
  {
   "cell_type": "code",
   "execution_count": null,
   "id": "lasting-courtesy",
   "metadata": {},
   "outputs": [],
   "source": [
    "regrid(\n",
    "    netcdf_file=\"/nfs/annie/cm15ogp/phd/paper1/col_er.nc\", \n",
    "    var_names=[\"ice_thickness\"],\n",
    "    new_proj=new_proj, \n",
    "    data_crs=\"EPSG:4326\",\n",
    "    save=\"/nfs/annie/cm15ogp/phd/paper1/col_er_reproj.nc\"\n",
    ")"
   ]
  },
  {
   "cell_type": "code",
   "execution_count": null,
   "id": "small-alert",
   "metadata": {},
   "outputs": [],
   "source": [
    "regrid(\n",
    "    netcdf_file=\"/nfs/annie/cm15ogp/phd/paper1/lam_er.nc\", \n",
    "    var_names=[\"ice_thickness\"],\n",
    "    new_proj=new_proj, \n",
    "    data_crs=\"EPSG:4326\",\n",
    "    save=\"/nfs/annie/cm15ogp/phd/paper1/lam_er_reproj.nc\"\n",
    ")"
   ]
  },
  {
   "cell_type": "code",
   "execution_count": null,
   "id": "disciplinary-complex",
   "metadata": {},
   "outputs": [],
   "source": [
    "regrid(netcdf_file=\"/nfs/annie/cm15ogp/phd/data/ice_models/glac1d/glac1d_topo_latlon_latp5lon1.nc\", \n",
    "       var_names=[\"bedrock_topography\"], \n",
    "       new_proj=new_proj, \n",
    "       data_crs=\"EPSG:4326\",\n",
    "       save=\"/nfs/annie/cm15ogp/phd/data/ice_models/glac1d/glac1d_topo_laea_5km_eurasia.nc\")"
   ]
  }
 ],
 "metadata": {
  "kernelspec": {
   "display_name": "Python 3 (ipykernel)",
   "language": "python",
   "name": "python3"
  },
  "language_info": {
   "codemirror_mode": {
    "name": "ipython",
    "version": 3
   },
   "file_extension": ".py",
   "mimetype": "text/x-python",
   "name": "python",
   "nbconvert_exporter": "python",
   "pygments_lexer": "ipython3",
   "version": "3.9.15"
  }
 },
 "nbformat": 4,
 "nbformat_minor": 5
}
