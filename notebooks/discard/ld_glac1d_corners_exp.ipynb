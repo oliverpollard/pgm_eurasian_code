{
 "cells": [
  {
   "cell_type": "code",
   "execution_count": 1,
   "id": "constant-adelaide",
   "metadata": {},
   "outputs": [],
   "source": [
    "import pandas as pd\n",
    "from pathlib import Path\n",
    "import numpy as np\n",
    "import xarray as xr\n",
    "from tqdm.auto import tqdm"
   ]
  },
  {
   "cell_type": "code",
   "execution_count": 2,
   "id": "hollywood-ontario",
   "metadata": {},
   "outputs": [],
   "source": [
    "from icesea2.experiments import gen_lhs_from_dict, norm_to_values, topography_to_icesheet_nc, gen_margin_input_files, gen_run_configs\n",
    "from icesea2.shearstress import make_shear_stress_map\n",
    "from icesea2.margins import shp_series_to_icesheet\n",
    "from icesea2.models import IcesheetModel\n",
    "from icesea2.gridtools import grid_icesheet_pool, grid_icesheet_series\n",
    " "
   ]
  },
  {
   "cell_type": "code",
   "execution_count": 3,
   "id": "operating-coach",
   "metadata": {},
   "outputs": [],
   "source": [
    "shear_stress_map_name = \"ely_victor_eurasia\"\n",
    "shear_stress_map_file = \"/nfs/annie/cm15ogp/phd/data/shear_stress/eurasia/regions.shp\""
   ]
  },
  {
   "cell_type": "code",
   "execution_count": 4,
   "id": "apart-liechtenstein",
   "metadata": {},
   "outputs": [],
   "source": [
    "dx = 5000\n",
    "dy = 5000\n",
    "x_min = -1265453.0\n",
    "x_max = 4159547.0\n",
    "y_min = -4722734.8\n",
    "y_max = 1352265.2\n",
    "grid_x = np.arange(x_min, x_max+dx, dx)\n",
    "grid_y = np.arange(y_min, y_max+dy, dy)\n",
    "\n",
    "grid_crs = '+ellps=WGS84 +proj=laea +lon_0=0.0 +lat_0=90 +x_0=0.0 +y_0=0.0 +no_defs'"
   ]
  },
  {
   "cell_type": "code",
   "execution_count": 5,
   "id": "fitting-bandwidth",
   "metadata": {},
   "outputs": [],
   "source": [
    "times = [-22000,-20000,-18000,-16000]"
   ]
  },
  {
   "cell_type": "code",
   "execution_count": 6,
   "id": "mobile-dependence",
   "metadata": {},
   "outputs": [],
   "source": [
    "shear_stress_parameters_var_ranges = {\n",
    "    \"g_lgm_ice_streams_ice_stream\": [5000,20000],\n",
    "    \"g_sediment_marine_sediment\": [10000,30000],\n",
    "    \"g_sediment_onshore_sediment\": [30000,100000],\n",
    "    \"g_sediment_bedrock\": [100000,150000],\n",
    "    \"p_ice_stream_interior_dist\": [0,1000],\n",
    "    \"p_cold_ice_shear_stress\": [120000,200000],\n",
    "    \"p_cold_ice_interior_dist\": [1000,300]\n",
    "}\n",
    "shear_stress_parameters_const = {\n",
    "    \"m_base_map_name\": shear_stress_map_name,\n",
    "    \"m_base_map_file\": shear_stress_map_file,\n",
    "    \"m_gauss_blur\": 1,\n",
    "    \"m_base_value\": 5000,\n",
    "    \"m_combine_pattern\": \"(g_sediment | (g_lgm_ice_streams * p_ice_stream)) | p_cold_ice\",\n",
    "    \"g_layers\": [\"sediment\", \"lgm_ice_streams\"],\n",
    "    \"p_processes\": [\"ice_stream\", \"cold_ice\"],\n",
    "}"
   ]
  },
  {
   "cell_type": "code",
   "execution_count": 7,
   "id": "pressing-greece",
   "metadata": {},
   "outputs": [],
   "source": [
    "ranges = np.array(list(shear_stress_parameters_var_ranges.values()))\n",
    "min_vals, max_vals = ranges[:,0], ranges[:,1]"
   ]
  },
  {
   "cell_type": "code",
   "execution_count": 8,
   "id": "opposed-bishop",
   "metadata": {},
   "outputs": [],
   "source": [
    "from itertools import product\n",
    "\n",
    "def vertices(N): \n",
    "    return np.array(list(product((0, 1), repeat=N)))\n",
    "\n",
    "corner_values = vertices(7) * (max_vals - min_vals) + min_vals"
   ]
  },
  {
   "cell_type": "code",
   "execution_count": 65,
   "id": "raised-vanilla",
   "metadata": {},
   "outputs": [
    {
     "name": "stdout",
     "output_type": "stream",
     "text": [
      "/nfs/annie/cm15ogp/phd/paper1/paper1_data/icesheet_runs/glac1d/corners\r\n"
     ]
    }
   ],
   "source": [
    "! pwd"
   ]
  },
  {
   "cell_type": "code",
   "execution_count": 64,
   "id": "primary-pierre",
   "metadata": {},
   "outputs": [],
   "source": [
    "exp_vars.to_csv(\"corners_sample.csv\", index=False)"
   ]
  },
  {
   "cell_type": "code",
   "execution_count": 9,
   "id": "herbal-somewhere",
   "metadata": {},
   "outputs": [
    {
     "data": {
      "text/html": [
       "<div>\n",
       "<style scoped>\n",
       "    .dataframe tbody tr th:only-of-type {\n",
       "        vertical-align: middle;\n",
       "    }\n",
       "\n",
       "    .dataframe tbody tr th {\n",
       "        vertical-align: top;\n",
       "    }\n",
       "\n",
       "    .dataframe thead th {\n",
       "        text-align: right;\n",
       "    }\n",
       "</style>\n",
       "<table border=\"1\" class=\"dataframe\">\n",
       "  <thead>\n",
       "    <tr style=\"text-align: right;\">\n",
       "      <th></th>\n",
       "      <th>g_lgm_ice_streams_ice_stream</th>\n",
       "      <th>g_sediment_marine_sediment</th>\n",
       "      <th>g_sediment_onshore_sediment</th>\n",
       "      <th>g_sediment_bedrock</th>\n",
       "      <th>p_ice_stream_interior_dist</th>\n",
       "      <th>p_cold_ice_shear_stress</th>\n",
       "      <th>p_cold_ice_interior_dist</th>\n",
       "    </tr>\n",
       "  </thead>\n",
       "  <tbody>\n",
       "    <tr>\n",
       "      <th>0</th>\n",
       "      <td>5000</td>\n",
       "      <td>10000</td>\n",
       "      <td>30000</td>\n",
       "      <td>100000</td>\n",
       "      <td>0</td>\n",
       "      <td>120000</td>\n",
       "      <td>1000</td>\n",
       "    </tr>\n",
       "    <tr>\n",
       "      <th>1</th>\n",
       "      <td>5000</td>\n",
       "      <td>10000</td>\n",
       "      <td>30000</td>\n",
       "      <td>100000</td>\n",
       "      <td>0</td>\n",
       "      <td>120000</td>\n",
       "      <td>300</td>\n",
       "    </tr>\n",
       "    <tr>\n",
       "      <th>2</th>\n",
       "      <td>5000</td>\n",
       "      <td>10000</td>\n",
       "      <td>30000</td>\n",
       "      <td>100000</td>\n",
       "      <td>0</td>\n",
       "      <td>200000</td>\n",
       "      <td>1000</td>\n",
       "    </tr>\n",
       "    <tr>\n",
       "      <th>3</th>\n",
       "      <td>5000</td>\n",
       "      <td>10000</td>\n",
       "      <td>30000</td>\n",
       "      <td>100000</td>\n",
       "      <td>0</td>\n",
       "      <td>200000</td>\n",
       "      <td>300</td>\n",
       "    </tr>\n",
       "    <tr>\n",
       "      <th>4</th>\n",
       "      <td>5000</td>\n",
       "      <td>10000</td>\n",
       "      <td>30000</td>\n",
       "      <td>100000</td>\n",
       "      <td>1000</td>\n",
       "      <td>120000</td>\n",
       "      <td>1000</td>\n",
       "    </tr>\n",
       "    <tr>\n",
       "      <th>...</th>\n",
       "      <td>...</td>\n",
       "      <td>...</td>\n",
       "      <td>...</td>\n",
       "      <td>...</td>\n",
       "      <td>...</td>\n",
       "      <td>...</td>\n",
       "      <td>...</td>\n",
       "    </tr>\n",
       "    <tr>\n",
       "      <th>123</th>\n",
       "      <td>20000</td>\n",
       "      <td>30000</td>\n",
       "      <td>100000</td>\n",
       "      <td>150000</td>\n",
       "      <td>0</td>\n",
       "      <td>200000</td>\n",
       "      <td>300</td>\n",
       "    </tr>\n",
       "    <tr>\n",
       "      <th>124</th>\n",
       "      <td>20000</td>\n",
       "      <td>30000</td>\n",
       "      <td>100000</td>\n",
       "      <td>150000</td>\n",
       "      <td>1000</td>\n",
       "      <td>120000</td>\n",
       "      <td>1000</td>\n",
       "    </tr>\n",
       "    <tr>\n",
       "      <th>125</th>\n",
       "      <td>20000</td>\n",
       "      <td>30000</td>\n",
       "      <td>100000</td>\n",
       "      <td>150000</td>\n",
       "      <td>1000</td>\n",
       "      <td>120000</td>\n",
       "      <td>300</td>\n",
       "    </tr>\n",
       "    <tr>\n",
       "      <th>126</th>\n",
       "      <td>20000</td>\n",
       "      <td>30000</td>\n",
       "      <td>100000</td>\n",
       "      <td>150000</td>\n",
       "      <td>1000</td>\n",
       "      <td>200000</td>\n",
       "      <td>1000</td>\n",
       "    </tr>\n",
       "    <tr>\n",
       "      <th>127</th>\n",
       "      <td>20000</td>\n",
       "      <td>30000</td>\n",
       "      <td>100000</td>\n",
       "      <td>150000</td>\n",
       "      <td>1000</td>\n",
       "      <td>200000</td>\n",
       "      <td>300</td>\n",
       "    </tr>\n",
       "  </tbody>\n",
       "</table>\n",
       "<p>128 rows × 7 columns</p>\n",
       "</div>"
      ],
      "text/plain": [
       "     g_lgm_ice_streams_ice_stream  g_sediment_marine_sediment  \\\n",
       "0                            5000                       10000   \n",
       "1                            5000                       10000   \n",
       "2                            5000                       10000   \n",
       "3                            5000                       10000   \n",
       "4                            5000                       10000   \n",
       "..                            ...                         ...   \n",
       "123                         20000                       30000   \n",
       "124                         20000                       30000   \n",
       "125                         20000                       30000   \n",
       "126                         20000                       30000   \n",
       "127                         20000                       30000   \n",
       "\n",
       "     g_sediment_onshore_sediment  g_sediment_bedrock  \\\n",
       "0                          30000              100000   \n",
       "1                          30000              100000   \n",
       "2                          30000              100000   \n",
       "3                          30000              100000   \n",
       "4                          30000              100000   \n",
       "..                           ...                 ...   \n",
       "123                       100000              150000   \n",
       "124                       100000              150000   \n",
       "125                       100000              150000   \n",
       "126                       100000              150000   \n",
       "127                       100000              150000   \n",
       "\n",
       "     p_ice_stream_interior_dist  p_cold_ice_shear_stress  \\\n",
       "0                             0                   120000   \n",
       "1                             0                   120000   \n",
       "2                             0                   200000   \n",
       "3                             0                   200000   \n",
       "4                          1000                   120000   \n",
       "..                          ...                      ...   \n",
       "123                           0                   200000   \n",
       "124                        1000                   120000   \n",
       "125                        1000                   120000   \n",
       "126                        1000                   200000   \n",
       "127                        1000                   200000   \n",
       "\n",
       "     p_cold_ice_interior_dist  \n",
       "0                        1000  \n",
       "1                         300  \n",
       "2                        1000  \n",
       "3                         300  \n",
       "4                        1000  \n",
       "..                        ...  \n",
       "123                       300  \n",
       "124                      1000  \n",
       "125                       300  \n",
       "126                      1000  \n",
       "127                       300  \n",
       "\n",
       "[128 rows x 7 columns]"
      ]
     },
     "execution_count": 9,
     "metadata": {},
     "output_type": "execute_result"
    }
   ],
   "source": [
    "exp_vars = pd.DataFrame(corner_values, columns=list(shear_stress_parameters_var_ranges.keys()))\n",
    "exp_vars"
   ]
  },
  {
   "cell_type": "code",
   "execution_count": 57,
   "id": "rapid-sailing",
   "metadata": {},
   "outputs": [
    {
     "name": "stdout",
     "output_type": "stream",
     "text": [
      "generate_glac1d_margins.ipynb  raw_v1\t  smooth_v1_topoclip_mod_-1km\r\n",
      "plots\t\t\t       smooth_v1\r\n"
     ]
    }
   ],
   "source": [
    "! ls /nfs/annie/cm15ogp/phd/data/ice_margins/glac1d"
   ]
  },
  {
   "cell_type": "code",
   "execution_count": 10,
   "id": "confident-protocol",
   "metadata": {},
   "outputs": [],
   "source": [
    "margins_name = \"glac1d_smooth_v1_topoclip_mod_-1km\"\n",
    "margins_dir = \"/nfs/annie/cm15ogp/phd/data/ice_margins/glac1d/smooth_v1_topoclip_mod_-1km\"\n",
    "run_dir = \"/nfs/annie/cm15ogp/phd/paper1/paper1_data/icesheet_runs/glac1d/corners/\"\n",
    "\n",
    "t_var_topo = True\n",
    "e_var_topo = False\n",
    "e_var_ss = True\n",
    "t_var_ss = True\n",
    "e_var_margins = False"
   ]
  },
  {
   "cell_type": "code",
   "execution_count": 78,
   "id": "controlling-programmer",
   "metadata": {},
   "outputs": [],
   "source": [
    "shear_stress_parameters = {'m_base_map_name': 'ely_victor_eurasia',\n",
    " 'm_base_map_file': '/nfs/annie/cm15ogp/phd/data/shear_stress/eurasia/regions.shp',\n",
    " 'm_gauss_blur': 0,\n",
    " 'm_base_value': 5000,\n",
    " 'm_combine_pattern': '(g_lgm_ice_streams * p_ice_stream)',\n",
    " 'g_layers': ['sediment', 'lgm_ice_streams'],\n",
    " 'p_processes': ['ice_stream', 'cold_ice'],\n",
    " 'g_lgm_ice_streams_ice_stream': 20000,\n",
    " 'g_sediment_marine_sediment': 30000,\n",
    " 'g_sediment_onshore_sediment': 100000,\n",
    " 'g_sediment_bedrock': 150000,\n",
    " 'p_ice_stream_interior_dist': 0,\n",
    " 'p_cold_ice_shear_stress': 200000,\n",
    " 'p_cold_ice_interior_dist': 300,\n",
    " 'p_margin_name': 'glac1d_smooth_v1_topoclip_mod_-1km',\n",
    " 'p_margin_time': -16000,\n",
    " 'p_margin_file': '/nfs/annie/cm15ogp/phd/data/ice_margins/glac1d/smooth_v1_topoclip_mod_-1km/-16000/margin.shp'}"
   ]
  },
  {
   "cell_type": "code",
   "execution_count": 79,
   "id": "composite-glass",
   "metadata": {},
   "outputs": [
    {
     "data": {
      "text/plain": [
       "<matplotlib.image.AxesImage at 0x7f16dfe83ca0>"
      ]
     },
     "execution_count": 79,
     "metadata": {},
     "output_type": "execute_result"
    },
    {
     "data": {
      "image/png": "[encoded data removed]",
      "text/plain": [
       "<Figure size 432x288 with 1 Axes>"
      ]
     },
     "metadata": {
      "needs_background": "light"
     },
     "output_type": "display_data"
    }
   ],
   "source": [
    "plt.imshow(make_shear_stress_map(\n",
    "    grid_x = grid_x, \n",
    "    grid_y = grid_y, \n",
    "    grid_crs = grid_crs, \n",
    "    parameters = shear_stress_parameters\n",
    ").raster, interpolation='none')"
   ]
  },
  {
   "cell_type": "code",
   "execution_count": 11,
   "id": "unexpected-gospel",
   "metadata": {},
   "outputs": [
    {
     "data": {
      "application/vnd.jupyter.widget-view+json": {
       "model_id": "fe94b193998d406197387bcd2492a641",
       "version_major": 2,
       "version_minor": 0
      },
      "text/plain": [
       "  0%|          | 0/4 [00:00<?, ?it/s]"
      ]
     },
     "metadata": {},
     "output_type": "display_data"
    },
    {
     "data": {
      "application/vnd.jupyter.widget-view+json": {
       "model_id": "1b1f03fdd4a1418a893151badc6a0113",
       "version_major": 2,
       "version_minor": 0
      },
      "text/plain": [
       "  0%|          | 0/128 [00:00<?, ?it/s]"
      ]
     },
     "metadata": {},
     "output_type": "display_data"
    },
    {
     "data": {
      "application/vnd.jupyter.widget-view+json": {
       "model_id": "8bf780d49df745cf8c367687832d5665",
       "version_major": 2,
       "version_minor": 0
      },
      "text/plain": [
       "  0%|          | 0/128 [00:00<?, ?it/s]"
      ]
     },
     "metadata": {},
     "output_type": "display_data"
    },
    {
     "data": {
      "application/vnd.jupyter.widget-view+json": {
       "model_id": "c7a8c8adb057426595388d6b19b7d7a0",
       "version_major": 2,
       "version_minor": 0
      },
      "text/plain": [
       "  0%|          | 0/128 [00:00<?, ?it/s]"
      ]
     },
     "metadata": {},
     "output_type": "display_data"
    },
    {
     "data": {
      "application/vnd.jupyter.widget-view+json": {
       "model_id": "c635544dca1c4c29bc810a622701bd93",
       "version_major": 2,
       "version_minor": 0
      },
      "text/plain": [
       "  0%|          | 0/128 [00:00<?, ?it/s]"
      ]
     },
     "metadata": {},
     "output_type": "display_data"
    }
   ],
   "source": [
    "for time in tqdm(times):\n",
    "    margin_filename = str(Path(margins_dir) / str(time) / \"margin.shp\")\n",
    "    shear_stress_parameters_margins = {\n",
    "        \"p_margin_name\": margins_name,\n",
    "        \"p_margin_time\": time,\n",
    "        \"p_margin_file\": margin_filename,\n",
    "    }\n",
    "    for exp_name, values in tqdm(exp_vars.iterrows(), total=len(exp_vars)):\n",
    "        inputs_dir_shear_stress = (\n",
    "            Path(run_dir) / \n",
    "            'inputs' / \n",
    "            'shearstress' / \n",
    "            str(time) / \n",
    "            str(exp_name)\n",
    "        )\n",
    "        inputs_dir_shear_stress.mkdir(exist_ok=True, parents=True)\n",
    "        shear_stress_parameters_var = values.to_dict()\n",
    "        shear_stress_parameters = {\n",
    "            **shear_stress_parameters_const, \n",
    "            **shear_stress_parameters_var, \n",
    "            **shear_stress_parameters_margins,\n",
    "        }\n",
    "\n",
    "        make_shear_stress_map(\n",
    "            grid_x = grid_x, \n",
    "            grid_y = grid_y, \n",
    "            grid_crs = grid_crs, \n",
    "            parameters = shear_stress_parameters,\n",
    "            save=str(inputs_dir_shear_stress / \"shearstress.nc\")\n",
    "        )\n"
   ]
  },
  {
   "cell_type": "code",
   "execution_count": 12,
   "id": "czech-failure",
   "metadata": {},
   "outputs": [],
   "source": [
    "inputs_dir_margins = (\n",
    "    Path(run_dir) / \n",
    "    'inputs' / \n",
    "    'margins'\n",
    ")\n",
    "inputs_dir_margins.mkdir(exist_ok=True, parents=True)\n",
    "\n",
    "shp_series_to_icesheet(\n",
    "    margins_dir, \n",
    "    grid_crs, \n",
    "    str(inputs_dir_margins), \n",
    "    times=times\n",
    ")"
   ]
  },
  {
   "cell_type": "code",
   "execution_count": 16,
   "id": "expected-negative",
   "metadata": {},
   "outputs": [],
   "source": [
    "topography_name = \"glac1d_laea_5km_eurasia\"\n",
    "topography_nc = \"/nfs/annie/cm15ogp/phd/data/ice_models/glac1d/glac1d_topo_laea_5km_eurasia.nc\"\n"
   ]
  },
  {
   "cell_type": "code",
   "execution_count": 17,
   "id": "unlimited-nickel",
   "metadata": {},
   "outputs": [],
   "source": [
    "# topography\n",
    "inputs_dir_topography = (Path(run_dir) / \"inputs/topography\")\n",
    "inputs_dir_topography.mkdir(exist_ok=True, parents=True)\n",
    "topography_to_icesheet_nc(topography_nc=topography_nc, output_dir=inputs_dir_topography, times=times)"
   ]
  },
  {
   "cell_type": "code",
   "execution_count": 18,
   "id": "prospective-reporter",
   "metadata": {},
   "outputs": [],
   "source": [
    "t_var_topo = True\n",
    "e_var_topo = False\n",
    "e_var_ss = True\n",
    "t_var_ss = True\n",
    "t_var_margins = True\n",
    "e_var_margins = False"
   ]
  },
  {
   "cell_type": "code",
   "execution_count": 59,
   "id": "established-thumbnail",
   "metadata": {},
   "outputs": [],
   "source": [
    "run_configs = []\n",
    "for member, config in exp_vars.iterrows():\n",
    "    config = config.to_dict()\n",
    "    run_config = gen_run_configs(\n",
    "        run_dir = str(run_dir),\n",
    "        times = times,\n",
    "        member_name = str(member),\n",
    "        t_var_topo=t_var_topo,\n",
    "        e_var_topo=e_var_topo,\n",
    "        t_var_ss=t_var_ss,\n",
    "        e_var_ss=e_var_ss,\n",
    "        e_var_margins=e_var_margins\n",
    "    )\n",
    "    run_configs = run_configs + run_config"
   ]
  },
  {
   "cell_type": "code",
   "execution_count": 61,
   "id": "actual-pittsburgh",
   "metadata": {},
   "outputs": [],
   "source": [
    "ism = IcesheetModel(\"/nfs/annie/cm15ogp/code/icesheet/binaries/icesheet\")"
   ]
  },
  {
   "cell_type": "code",
   "execution_count": 62,
   "id": "finite-lyric",
   "metadata": {},
   "outputs": [],
   "source": [
    "ism.run_pool(run_configs, cores=24)"
   ]
  },
  {
   "cell_type": "code",
   "execution_count": null,
   "id": "obvious-guide",
   "metadata": {},
   "outputs": [],
   "source": []
  }
 ],
 "metadata": {
  "kernelspec": {
   "display_name": "Python 3 (ipykernel)",
   "language": "python",
   "name": "python3"
  },
  "language_info": {
   "codemirror_mode": {
    "name": "ipython",
    "version": 3
   },
   "file_extension": ".py",
   "mimetype": "text/x-python",
   "name": "python",
   "nbconvert_exporter": "python",
   "pygments_lexer": "ipython3",
   "version": "3.9.15"
  }
 },
 "nbformat": 4,
 "nbformat_minor": 5
}
