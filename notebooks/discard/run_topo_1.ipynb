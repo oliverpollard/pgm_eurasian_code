{
 "cells": [
  {
   "cell_type": "code",
   "execution_count": 3,
   "id": "certified-brave",
   "metadata": {},
   "outputs": [],
   "source": [
    "import numpy as np\n",
    "import pandas as pd\n",
    "from pathlib import Path\n",
    "from tqdm.auto import tqdm"
   ]
  },
  {
   "cell_type": "code",
   "execution_count": 48,
   "id": "threatened-trail",
   "metadata": {},
   "outputs": [],
   "source": [
    "from icesea2.experiments import gen_lhs_from_dict, norm_to_values, topography_to_icesheet_nc, gen_run_configs\n",
    "from icesea2.margins import shp_series_to_icesheet\n",
    "from icesea2.shearstress import make_shear_stress_map\n",
    "from icesea2.models import IcesheetModel"
   ]
  },
  {
   "cell_type": "code",
   "execution_count": 49,
   "id": "afraid-translator",
   "metadata": {},
   "outputs": [],
   "source": [
    "times = [-140000]"
   ]
  },
  {
   "cell_type": "code",
   "execution_count": 50,
   "id": "secret-accountability",
   "metadata": {},
   "outputs": [],
   "source": [
    "shear_stress_parameters_var_ranges = {\n",
    "    \"g_pgm_ice_streams_ice_stream\": [5000,20000],\n",
    "    \"g_sediment_marine_sediment\": [10000,30000],\n",
    "    \"g_sediment_onshore_sediment\": [30000,100000],\n",
    "    \"g_sediment_bedrock\": [100000,150000],\n",
    "    \"p_ice_stream_interior_dist\": [0,1000],\n",
    "    \"p_cold_ice_shear_stress\": [120000,200000],\n",
    "    \"p_cold_ice_interior_dist\": [1000,300],\n",
    "    \"p_hybrid_ice_stream_shear_stress\": [5000,100000],\n",
    "    \"p_hybrid_ice_stream_dist\": [0,600],\n",
    "}"
   ]
  },
  {
   "cell_type": "code",
   "execution_count": 51,
   "id": "timely-inside",
   "metadata": {},
   "outputs": [],
   "source": [
    "lhs_norm_path = \"lhs_norm.csv\"\n",
    "lhs_values_path = \"lhs_values.csv\"\n",
    "\n",
    "lhs = np.genfromtxt(lhs_norm_path, delimiter=\",\", skip_header=1)\n",
    "lhs_values = np.genfromtxt(lhs_values_path, delimiter=\",\", skip_header=1)\n",
    "\n",
    "exp_vars = pd.DataFrame(lhs_values, columns=list(shear_stress_parameters_var_ranges.keys()))"
   ]
  },
  {
   "cell_type": "code",
   "execution_count": 53,
   "id": "cutting-maria",
   "metadata": {},
   "outputs": [],
   "source": [
    "run_dir = \"/nfs/annie/cm15ogp/phd/paper1/paper1_data/icesheet_runs/batchelor/topo_iteration_1\""
   ]
  },
  {
   "cell_type": "code",
   "execution_count": 54,
   "id": "discrete-arctic",
   "metadata": {},
   "outputs": [],
   "source": [
    "t_var_topo = True\n",
    "e_var_topo = True\n",
    "e_var_ss = True\n",
    "t_var_ss = False\n",
    "e_var_margins = False"
   ]
  },
  {
   "cell_type": "code",
   "execution_count": 55,
   "id": "adjustable-duncan",
   "metadata": {},
   "outputs": [],
   "source": [
    "run_configs = []\n",
    "for member, config in exp_vars.iterrows():\n",
    "    config = config.to_dict()\n",
    "    run_config = gen_run_configs(\n",
    "        run_dir = str(run_dir),\n",
    "        times = times,\n",
    "        member_name = str(member),\n",
    "        t_var_topo=t_var_topo,\n",
    "        e_var_topo=e_var_topo,\n",
    "        t_var_ss=t_var_ss,\n",
    "        e_var_ss=e_var_ss,\n",
    "        e_var_margins=e_var_margins\n",
    "    )\n",
    "    run_configs = run_configs + run_config"
   ]
  },
  {
   "cell_type": "code",
   "execution_count": 56,
   "id": "foreign-triumph",
   "metadata": {},
   "outputs": [],
   "source": [
    "ism = IcesheetModel(\"/nfs/annie/cm15ogp/code/icesheet/binaries/icesheet\")\n",
    "ism.run_pool(run_configs, cores=20)"
   ]
  },
  {
   "cell_type": "code",
   "execution_count": null,
   "id": "likely-overview",
   "metadata": {},
   "outputs": [],
   "source": []
  }
 ],
 "metadata": {
  "kernelspec": {
   "display_name": "Python 3 (ipykernel)",
   "language": "python",
   "name": "python3"
  },
  "language_info": {
   "codemirror_mode": {
    "name": "ipython",
    "version": 3
   },
   "file_extension": ".py",
   "mimetype": "text/x-python",
   "name": "python",
   "nbconvert_exporter": "python",
   "pygments_lexer": "ipython3",
   "version": "3.9.15"
  }
 },
 "nbformat": 4,
 "nbformat_minor": 5
}
