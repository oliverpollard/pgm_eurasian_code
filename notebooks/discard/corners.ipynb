{
 "cells": [
  {
   "cell_type": "code",
   "execution_count": 36,
   "id": "turned-installation",
   "metadata": {},
   "outputs": [],
   "source": [
    "import pandas as pd\n",
    "from pathlib import Path\n",
    "import numpy as np\n",
    "import xarray as xr\n",
    "from tqdm.auto import tqdm"
   ]
  },
  {
   "cell_type": "code",
   "execution_count": 2,
   "id": "signal-escape",
   "metadata": {},
   "outputs": [],
   "source": [
    "from icesea2.experiments import gen_lhs_from_dict, norm_to_values, topography_to_icesheet_nc, gen_margin_input_files, gen_run_configs\n",
    "from icesea2.shearstress import make_shear_stress_map\n",
    "from icesea2.margins import shp_series_to_icesheet\n",
    "from icesea2.models import IcesheetModel\n",
    "from icesea2.gridtools import grid_icesheet_pool, grid_icesheet_series\n",
    " "
   ]
  },
  {
   "cell_type": "code",
   "execution_count": 4,
   "id": "incident-decade",
   "metadata": {},
   "outputs": [],
   "source": [
    "shear_stress_map_name = \"ely_victor_eurasia\"\n",
    "shear_stress_map_file = \"/nfs/annie/cm15ogp/phd/data/shear_stress/eurasia/regions.shp\""
   ]
  },
  {
   "cell_type": "code",
   "execution_count": 5,
   "id": "decreased-twins",
   "metadata": {},
   "outputs": [],
   "source": [
    "dx = 5000\n",
    "dy = 5000\n",
    "x_min = -1265453.0\n",
    "x_max = 4159547.0\n",
    "y_min = -4722734.8\n",
    "y_max = 1352265.2\n",
    "grid_x = np.arange(x_min, x_max+dx, dx)\n",
    "grid_y = np.arange(y_min, y_max+dy, dy)\n",
    "\n",
    "grid_crs = '+ellps=WGS84 +proj=laea +lon_0=0.0 +lat_0=90 +x_0=0.0 +y_0=0.0 +no_defs'"
   ]
  },
  {
   "cell_type": "code",
   "execution_count": 6,
   "id": "bearing-kitchen",
   "metadata": {},
   "outputs": [],
   "source": [
    "times = [-22000,-20000,-18000,-16000]"
   ]
  },
  {
   "cell_type": "code",
   "execution_count": 7,
   "id": "patent-knock",
   "metadata": {},
   "outputs": [],
   "source": [
    "shear_stress_parameters_var_ranges = {\n",
    "    \"g_lgm_ice_streams_ice_stream\": [5000,20000],\n",
    "    \"g_sediment_marine_sediment\": [10000,30000],\n",
    "    \"g_sediment_onshore_sediment\": [30000,100000],\n",
    "    \"g_sediment_bedrock\": [100000,150000],\n",
    "    \"p_ice_stream_interior_dist\": [0,1000],\n",
    "    \"p_cold_ice_shear_stress\": [120000,200000],\n",
    "    \"p_cold_ice_interior_dist\": [1000,300]\n",
    "}\n",
    "shear_stress_parameters_const = {\n",
    "    \"m_base_map_name\": shear_stress_map_name,\n",
    "    \"m_base_map_file\": shear_stress_map_file,\n",
    "    \"m_gauss_blur\": 1,\n",
    "    \"m_base_value\": 5000,\n",
    "    \"m_combine_pattern\": \"(g_sediment | (g_lgm_ice_streams * p_ice_stream)) | p_cold_ice\",\n",
    "    \"g_layers\": [\"sediment\", \"lgm_ice_streams\"],\n",
    "    \"p_processes\": [\"ice_stream\", \"cold_ice\"],\n",
    "}"
   ]
  },
  {
   "cell_type": "code",
   "execution_count": 10,
   "id": "czech-outreach",
   "metadata": {},
   "outputs": [
    {
     "name": "stdout",
     "output_type": "stream",
     "text": [
      "glac1d_icesheet.nc  lhs_norm.csv    outputs_gridded\r\n",
      "inputs\t\t    lhs_values.csv  outputs_raw\r\n"
     ]
    }
   ],
   "source": [
    "! ls ../../glac1d"
   ]
  },
  {
   "cell_type": "code",
   "execution_count": 11,
   "id": "static-wilderness",
   "metadata": {},
   "outputs": [
    {
     "data": {
      "text/html": [
       "<div>\n",
       "<style scoped>\n",
       "    .dataframe tbody tr th:only-of-type {\n",
       "        vertical-align: middle;\n",
       "    }\n",
       "\n",
       "    .dataframe tbody tr th {\n",
       "        vertical-align: top;\n",
       "    }\n",
       "\n",
       "    .dataframe thead th {\n",
       "        text-align: right;\n",
       "    }\n",
       "</style>\n",
       "<table border=\"1\" class=\"dataframe\">\n",
       "  <thead>\n",
       "    <tr style=\"text-align: right;\">\n",
       "      <th></th>\n",
       "      <th>g_lgm_ice_streams_ice_stream</th>\n",
       "      <th>g_sediment_marine_sediment</th>\n",
       "      <th>g_sediment_onshore_sediment</th>\n",
       "      <th>g_sediment_bedrock</th>\n",
       "      <th>p_ice_stream_interior_dist</th>\n",
       "      <th>p_cold_ice_shear_stress</th>\n",
       "      <th>p_cold_ice_interior_dist</th>\n",
       "    </tr>\n",
       "  </thead>\n",
       "  <tbody>\n",
       "    <tr>\n",
       "      <th>0</th>\n",
       "      <td>10341.296115</td>\n",
       "      <td>20023.430323</td>\n",
       "      <td>65682.239616</td>\n",
       "      <td>147281.903649</td>\n",
       "      <td>550.344096</td>\n",
       "      <td>181545.035528</td>\n",
       "      <td>558.201426</td>\n",
       "    </tr>\n",
       "    <tr>\n",
       "      <th>1</th>\n",
       "      <td>5647.082453</td>\n",
       "      <td>22362.578744</td>\n",
       "      <td>68146.823648</td>\n",
       "      <td>118698.419396</td>\n",
       "      <td>248.464200</td>\n",
       "      <td>187587.423718</td>\n",
       "      <td>592.750215</td>\n",
       "    </tr>\n",
       "    <tr>\n",
       "      <th>2</th>\n",
       "      <td>16223.214521</td>\n",
       "      <td>25587.443663</td>\n",
       "      <td>64063.151829</td>\n",
       "      <td>105938.286079</td>\n",
       "      <td>569.421152</td>\n",
       "      <td>133108.145756</td>\n",
       "      <td>409.445132</td>\n",
       "    </tr>\n",
       "    <tr>\n",
       "      <th>3</th>\n",
       "      <td>16268.621002</td>\n",
       "      <td>10621.660822</td>\n",
       "      <td>89495.616465</td>\n",
       "      <td>112868.203696</td>\n",
       "      <td>956.861359</td>\n",
       "      <td>139837.614592</td>\n",
       "      <td>985.961424</td>\n",
       "    </tr>\n",
       "    <tr>\n",
       "      <th>4</th>\n",
       "      <td>16343.997410</td>\n",
       "      <td>28497.833312</td>\n",
       "      <td>61396.313072</td>\n",
       "      <td>136961.430637</td>\n",
       "      <td>657.071250</td>\n",
       "      <td>131477.750325</td>\n",
       "      <td>733.585092</td>\n",
       "    </tr>\n",
       "    <tr>\n",
       "      <th>...</th>\n",
       "      <td>...</td>\n",
       "      <td>...</td>\n",
       "      <td>...</td>\n",
       "      <td>...</td>\n",
       "      <td>...</td>\n",
       "      <td>...</td>\n",
       "      <td>...</td>\n",
       "    </tr>\n",
       "    <tr>\n",
       "      <th>195</th>\n",
       "      <td>17986.018771</td>\n",
       "      <td>16566.140779</td>\n",
       "      <td>89551.298339</td>\n",
       "      <td>135051.869153</td>\n",
       "      <td>585.212799</td>\n",
       "      <td>188163.825018</td>\n",
       "      <td>406.732650</td>\n",
       "    </tr>\n",
       "    <tr>\n",
       "      <th>196</th>\n",
       "      <td>12985.963242</td>\n",
       "      <td>13817.539886</td>\n",
       "      <td>40187.372838</td>\n",
       "      <td>114919.098671</td>\n",
       "      <td>974.009705</td>\n",
       "      <td>193241.011662</td>\n",
       "      <td>797.565523</td>\n",
       "    </tr>\n",
       "    <tr>\n",
       "      <th>197</th>\n",
       "      <td>19833.418076</td>\n",
       "      <td>14276.209623</td>\n",
       "      <td>86261.304957</td>\n",
       "      <td>123612.279709</td>\n",
       "      <td>305.557201</td>\n",
       "      <td>167026.979004</td>\n",
       "      <td>841.924258</td>\n",
       "    </tr>\n",
       "    <tr>\n",
       "      <th>198</th>\n",
       "      <td>19631.946679</td>\n",
       "      <td>25869.234886</td>\n",
       "      <td>78779.229855</td>\n",
       "      <td>137347.481277</td>\n",
       "      <td>858.346997</td>\n",
       "      <td>130524.578350</td>\n",
       "      <td>308.033664</td>\n",
       "    </tr>\n",
       "    <tr>\n",
       "      <th>199</th>\n",
       "      <td>15155.917562</td>\n",
       "      <td>19189.554629</td>\n",
       "      <td>81246.885025</td>\n",
       "      <td>142467.659439</td>\n",
       "      <td>415.034984</td>\n",
       "      <td>121708.840263</td>\n",
       "      <td>373.343473</td>\n",
       "    </tr>\n",
       "  </tbody>\n",
       "</table>\n",
       "<p>200 rows × 7 columns</p>\n",
       "</div>"
      ],
      "text/plain": [
       "     g_lgm_ice_streams_ice_stream  g_sediment_marine_sediment  \\\n",
       "0                    10341.296115                20023.430323   \n",
       "1                     5647.082453                22362.578744   \n",
       "2                    16223.214521                25587.443663   \n",
       "3                    16268.621002                10621.660822   \n",
       "4                    16343.997410                28497.833312   \n",
       "..                            ...                         ...   \n",
       "195                  17986.018771                16566.140779   \n",
       "196                  12985.963242                13817.539886   \n",
       "197                  19833.418076                14276.209623   \n",
       "198                  19631.946679                25869.234886   \n",
       "199                  15155.917562                19189.554629   \n",
       "\n",
       "     g_sediment_onshore_sediment  g_sediment_bedrock  \\\n",
       "0                   65682.239616       147281.903649   \n",
       "1                   68146.823648       118698.419396   \n",
       "2                   64063.151829       105938.286079   \n",
       "3                   89495.616465       112868.203696   \n",
       "4                   61396.313072       136961.430637   \n",
       "..                           ...                 ...   \n",
       "195                 89551.298339       135051.869153   \n",
       "196                 40187.372838       114919.098671   \n",
       "197                 86261.304957       123612.279709   \n",
       "198                 78779.229855       137347.481277   \n",
       "199                 81246.885025       142467.659439   \n",
       "\n",
       "     p_ice_stream_interior_dist  p_cold_ice_shear_stress  \\\n",
       "0                    550.344096            181545.035528   \n",
       "1                    248.464200            187587.423718   \n",
       "2                    569.421152            133108.145756   \n",
       "3                    956.861359            139837.614592   \n",
       "4                    657.071250            131477.750325   \n",
       "..                          ...                      ...   \n",
       "195                  585.212799            188163.825018   \n",
       "196                  974.009705            193241.011662   \n",
       "197                  305.557201            167026.979004   \n",
       "198                  858.346997            130524.578350   \n",
       "199                  415.034984            121708.840263   \n",
       "\n",
       "     p_cold_ice_interior_dist  \n",
       "0                  558.201426  \n",
       "1                  592.750215  \n",
       "2                  409.445132  \n",
       "3                  985.961424  \n",
       "4                  733.585092  \n",
       "..                        ...  \n",
       "195                406.732650  \n",
       "196                797.565523  \n",
       "197                841.924258  \n",
       "198                308.033664  \n",
       "199                373.343473  \n",
       "\n",
       "[200 rows x 7 columns]"
      ]
     },
     "execution_count": 11,
     "metadata": {},
     "output_type": "execute_result"
    }
   ],
   "source": [
    "pd.read_csv(\"../../glac1d/lhs_values.csv\")"
   ]
  },
  {
   "cell_type": "code",
   "execution_count": 25,
   "id": "certified-interference",
   "metadata": {},
   "outputs": [],
   "source": []
  },
  {
   "cell_type": "code",
   "execution_count": 26,
   "id": "identical-mason",
   "metadata": {},
   "outputs": [
    {
     "data": {
      "text/plain": [
       "array([  5000,  10000,  30000, 100000,      0, 120000,   1000])"
      ]
     },
     "execution_count": 26,
     "metadata": {},
     "output_type": "execute_result"
    }
   ],
   "source": [
    "min_vals"
   ]
  },
  {
   "cell_type": "code",
   "execution_count": null,
   "id": "certain-circle",
   "metadata": {},
   "outputs": [],
   "source": [
    "norm = (vals - min)/(max - min)"
   ]
  },
  {
   "cell_type": "code",
   "execution_count": 29,
   "id": "through-smell",
   "metadata": {},
   "outputs": [],
   "source": []
  },
  {
   "cell_type": "code",
   "execution_count": 31,
   "id": "electrical-crystal",
   "metadata": {},
   "outputs": [
    {
     "data": {
      "text/html": [
       "<div>\n",
       "<style scoped>\n",
       "    .dataframe tbody tr th:only-of-type {\n",
       "        vertical-align: middle;\n",
       "    }\n",
       "\n",
       "    .dataframe tbody tr th {\n",
       "        vertical-align: top;\n",
       "    }\n",
       "\n",
       "    .dataframe thead th {\n",
       "        text-align: right;\n",
       "    }\n",
       "</style>\n",
       "<table border=\"1\" class=\"dataframe\">\n",
       "  <thead>\n",
       "    <tr style=\"text-align: right;\">\n",
       "      <th></th>\n",
       "      <th>g_lgm_ice_streams_ice_stream</th>\n",
       "      <th>g_sediment_marine_sediment</th>\n",
       "      <th>g_sediment_onshore_sediment</th>\n",
       "      <th>g_sediment_bedrock</th>\n",
       "      <th>p_ice_stream_interior_dist</th>\n",
       "      <th>p_cold_ice_shear_stress</th>\n",
       "      <th>p_cold_ice_interior_dist</th>\n",
       "    </tr>\n",
       "  </thead>\n",
       "  <tbody>\n",
       "    <tr>\n",
       "      <th>0</th>\n",
       "      <td>5000</td>\n",
       "      <td>10000</td>\n",
       "      <td>30000</td>\n",
       "      <td>100000</td>\n",
       "      <td>0</td>\n",
       "      <td>120000</td>\n",
       "      <td>1000</td>\n",
       "    </tr>\n",
       "    <tr>\n",
       "      <th>1</th>\n",
       "      <td>5000</td>\n",
       "      <td>10000</td>\n",
       "      <td>30000</td>\n",
       "      <td>100000</td>\n",
       "      <td>0</td>\n",
       "      <td>120000</td>\n",
       "      <td>300</td>\n",
       "    </tr>\n",
       "    <tr>\n",
       "      <th>2</th>\n",
       "      <td>5000</td>\n",
       "      <td>10000</td>\n",
       "      <td>30000</td>\n",
       "      <td>100000</td>\n",
       "      <td>0</td>\n",
       "      <td>200000</td>\n",
       "      <td>1000</td>\n",
       "    </tr>\n",
       "    <tr>\n",
       "      <th>3</th>\n",
       "      <td>5000</td>\n",
       "      <td>10000</td>\n",
       "      <td>30000</td>\n",
       "      <td>100000</td>\n",
       "      <td>0</td>\n",
       "      <td>200000</td>\n",
       "      <td>300</td>\n",
       "    </tr>\n",
       "    <tr>\n",
       "      <th>4</th>\n",
       "      <td>5000</td>\n",
       "      <td>10000</td>\n",
       "      <td>30000</td>\n",
       "      <td>100000</td>\n",
       "      <td>1000</td>\n",
       "      <td>120000</td>\n",
       "      <td>1000</td>\n",
       "    </tr>\n",
       "    <tr>\n",
       "      <th>...</th>\n",
       "      <td>...</td>\n",
       "      <td>...</td>\n",
       "      <td>...</td>\n",
       "      <td>...</td>\n",
       "      <td>...</td>\n",
       "      <td>...</td>\n",
       "      <td>...</td>\n",
       "    </tr>\n",
       "    <tr>\n",
       "      <th>123</th>\n",
       "      <td>20000</td>\n",
       "      <td>30000</td>\n",
       "      <td>100000</td>\n",
       "      <td>150000</td>\n",
       "      <td>0</td>\n",
       "      <td>200000</td>\n",
       "      <td>300</td>\n",
       "    </tr>\n",
       "    <tr>\n",
       "      <th>124</th>\n",
       "      <td>20000</td>\n",
       "      <td>30000</td>\n",
       "      <td>100000</td>\n",
       "      <td>150000</td>\n",
       "      <td>1000</td>\n",
       "      <td>120000</td>\n",
       "      <td>1000</td>\n",
       "    </tr>\n",
       "    <tr>\n",
       "      <th>125</th>\n",
       "      <td>20000</td>\n",
       "      <td>30000</td>\n",
       "      <td>100000</td>\n",
       "      <td>150000</td>\n",
       "      <td>1000</td>\n",
       "      <td>120000</td>\n",
       "      <td>300</td>\n",
       "    </tr>\n",
       "    <tr>\n",
       "      <th>126</th>\n",
       "      <td>20000</td>\n",
       "      <td>30000</td>\n",
       "      <td>100000</td>\n",
       "      <td>150000</td>\n",
       "      <td>1000</td>\n",
       "      <td>200000</td>\n",
       "      <td>1000</td>\n",
       "    </tr>\n",
       "    <tr>\n",
       "      <th>127</th>\n",
       "      <td>20000</td>\n",
       "      <td>30000</td>\n",
       "      <td>100000</td>\n",
       "      <td>150000</td>\n",
       "      <td>1000</td>\n",
       "      <td>200000</td>\n",
       "      <td>300</td>\n",
       "    </tr>\n",
       "  </tbody>\n",
       "</table>\n",
       "<p>128 rows × 7 columns</p>\n",
       "</div>"
      ],
      "text/plain": [
       "     g_lgm_ice_streams_ice_stream  g_sediment_marine_sediment  \\\n",
       "0                            5000                       10000   \n",
       "1                            5000                       10000   \n",
       "2                            5000                       10000   \n",
       "3                            5000                       10000   \n",
       "4                            5000                       10000   \n",
       "..                            ...                         ...   \n",
       "123                         20000                       30000   \n",
       "124                         20000                       30000   \n",
       "125                         20000                       30000   \n",
       "126                         20000                       30000   \n",
       "127                         20000                       30000   \n",
       "\n",
       "     g_sediment_onshore_sediment  g_sediment_bedrock  \\\n",
       "0                          30000              100000   \n",
       "1                          30000              100000   \n",
       "2                          30000              100000   \n",
       "3                          30000              100000   \n",
       "4                          30000              100000   \n",
       "..                           ...                 ...   \n",
       "123                       100000              150000   \n",
       "124                       100000              150000   \n",
       "125                       100000              150000   \n",
       "126                       100000              150000   \n",
       "127                       100000              150000   \n",
       "\n",
       "     p_ice_stream_interior_dist  p_cold_ice_shear_stress  \\\n",
       "0                             0                   120000   \n",
       "1                             0                   120000   \n",
       "2                             0                   200000   \n",
       "3                             0                   200000   \n",
       "4                          1000                   120000   \n",
       "..                          ...                      ...   \n",
       "123                           0                   200000   \n",
       "124                        1000                   120000   \n",
       "125                        1000                   120000   \n",
       "126                        1000                   200000   \n",
       "127                        1000                   200000   \n",
       "\n",
       "     p_cold_ice_interior_dist  \n",
       "0                        1000  \n",
       "1                         300  \n",
       "2                        1000  \n",
       "3                         300  \n",
       "4                        1000  \n",
       "..                        ...  \n",
       "123                       300  \n",
       "124                      1000  \n",
       "125                       300  \n",
       "126                      1000  \n",
       "127                       300  \n",
       "\n",
       "[128 rows x 7 columns]"
      ]
     },
     "execution_count": 31,
     "metadata": {},
     "output_type": "execute_result"
    }
   ],
   "source": [
    "exp_vars = pd.DataFrame(corner_values, columns=list(shear_stress_parameters_var_ranges.keys()))\n",
    "exp_vars"
   ]
  },
  {
   "cell_type": "code",
   "execution_count": 33,
   "id": "negative-basin",
   "metadata": {},
   "outputs": [
    {
     "name": "stdout",
     "output_type": "stream",
     "text": [
      "/nfs/annie/cm15ogp/phd/paper1/paper1_data/icesheet_runs/ice6g/corners\r\n"
     ]
    }
   ],
   "source": [
    "! pwd"
   ]
  },
  {
   "cell_type": "code",
   "execution_count": 34,
   "id": "contemporary-auckland",
   "metadata": {},
   "outputs": [],
   "source": [
    "margins_name = \"smooth_v2_topoclip_mod_-1km\"\n",
    "margins_dir = \"/nfs/annie/cm15ogp/phd/data/ice_margins/ice6g/smooth_v2_topoclip_mod_-1km\"\n",
    "run_dir = \"/nfs/annie/cm15ogp/phd/paper1/paper1_data/icesheet_runs/ice6g/corners/\"\n",
    "\n",
    "t_var_topo = True\n",
    "e_var_topo = False\n",
    "e_var_ss = True\n",
    "t_var_ss = True\n",
    "e_var_margins = False"
   ]
  },
  {
   "cell_type": "code",
   "execution_count": 37,
   "id": "accredited-prisoner",
   "metadata": {},
   "outputs": [
    {
     "data": {
      "application/vnd.jupyter.widget-view+json": {
       "model_id": "4e7c3f0247a24613baadb604b0062581",
       "version_major": 2,
       "version_minor": 0
      },
      "text/plain": [
       "  0%|          | 0/4 [00:00<?, ?it/s]"
      ]
     },
     "metadata": {},
     "output_type": "display_data"
    },
    {
     "data": {
      "application/vnd.jupyter.widget-view+json": {
       "model_id": "9cce720964c34740b5d02b3293059646",
       "version_major": 2,
       "version_minor": 0
      },
      "text/plain": [
       "  0%|          | 0/128 [00:00<?, ?it/s]"
      ]
     },
     "metadata": {},
     "output_type": "display_data"
    },
    {
     "data": {
      "application/vnd.jupyter.widget-view+json": {
       "model_id": "81a914e9a1104c1da4368a3e185533ca",
       "version_major": 2,
       "version_minor": 0
      },
      "text/plain": [
       "  0%|          | 0/128 [00:00<?, ?it/s]"
      ]
     },
     "metadata": {},
     "output_type": "display_data"
    },
    {
     "data": {
      "application/vnd.jupyter.widget-view+json": {
       "model_id": "25ee580092504c0089ccfd455bafdf1d",
       "version_major": 2,
       "version_minor": 0
      },
      "text/plain": [
       "  0%|          | 0/128 [00:00<?, ?it/s]"
      ]
     },
     "metadata": {},
     "output_type": "display_data"
    },
    {
     "data": {
      "application/vnd.jupyter.widget-view+json": {
       "model_id": "d3aba005c634415492d5a827e33a3fde",
       "version_major": 2,
       "version_minor": 0
      },
      "text/plain": [
       "  0%|          | 0/128 [00:00<?, ?it/s]"
      ]
     },
     "metadata": {},
     "output_type": "display_data"
    }
   ],
   "source": [
    "for time in tqdm(times):\n",
    "    margin_filename = str(Path(margins_dir) / str(time) / \"margin.shp\")\n",
    "    shear_stress_parameters_margins = {\n",
    "        \"p_margin_name\": margins_name,\n",
    "        \"p_margin_time\": time,\n",
    "        \"p_margin_file\": margin_filename,\n",
    "    }\n",
    "    for exp_name, values in tqdm(exp_vars.iterrows(), total=len(exp_vars)):\n",
    "        inputs_dir_shear_stress = (\n",
    "            Path(run_dir) / \n",
    "            'inputs' / \n",
    "            'shearstress' / \n",
    "            str(time) / \n",
    "            str(exp_name)\n",
    "        )\n",
    "        inputs_dir_shear_stress.mkdir(exist_ok=True, parents=True)\n",
    "        shear_stress_parameters_var = values.to_dict()\n",
    "        shear_stress_parameters = {\n",
    "            **shear_stress_parameters_const, \n",
    "            **shear_stress_parameters_var, \n",
    "            **shear_stress_parameters_margins,\n",
    "        }\n",
    "\n",
    "        make_shear_stress_map(\n",
    "            grid_x = grid_x, \n",
    "            grid_y = grid_y, \n",
    "            grid_crs = grid_crs, \n",
    "            parameters = shear_stress_parameters,\n",
    "            save=str(inputs_dir_shear_stress / \"shearstress.nc\")\n",
    "        )\n"
   ]
  },
  {
   "cell_type": "code",
   "execution_count": 48,
   "id": "beneficial-component",
   "metadata": {},
   "outputs": [],
   "source": [
    "# ice sheet margins\n",
    "# inputs_dir_margins = (run_dir / 'inputs/margins')\n",
    "\n",
    "inputs_dir_margins = (\n",
    "    Path(run_dir) / \n",
    "    'inputs' / \n",
    "    'margins'\n",
    ")\n",
    "inputs_dir_margins.mkdir(exist_ok=True, parents=True)\n",
    "\n",
    "shp_series_to_icesheet(\n",
    "    margins_dir, \n",
    "    grid_crs, \n",
    "    str(inputs_dir_margins), \n",
    "    times=times\n",
    ")\n",
    "\n",
    "#split_margins = gen_margin_input_files(inputs_dir_margins, times)"
   ]
  },
  {
   "cell_type": "code",
   "execution_count": 49,
   "id": "activated-patrol",
   "metadata": {},
   "outputs": [],
   "source": [
    "topography_name = \"ice6g_laea_5km_eurasia\"\n",
    "topography_nc = \"/nfs/annie/cm15ogp/phd/data/ice_models/ice6g/ice6g_laea_5km_eurasia.nc\"\n"
   ]
  },
  {
   "cell_type": "code",
   "execution_count": 50,
   "id": "driven-injury",
   "metadata": {},
   "outputs": [],
   "source": [
    "# topography\n",
    "inputs_dir_topography = (Path(run_dir) / \"inputs/topography\")\n",
    "inputs_dir_topography.mkdir(exist_ok=True, parents=True)\n",
    "topography_to_icesheet_nc(topography_nc=topography_nc, output_dir=inputs_dir_topography, times=times)"
   ]
  },
  {
   "cell_type": "code",
   "execution_count": 51,
   "id": "aware-warrior",
   "metadata": {},
   "outputs": [],
   "source": [
    "t_var_topo = True\n",
    "e_var_topo = False\n",
    "e_var_ss = True\n",
    "t_var_ss = True\n",
    "t_var_margins = True\n",
    "e_var_margins = False"
   ]
  },
  {
   "cell_type": "code",
   "execution_count": 52,
   "id": "early-flour",
   "metadata": {},
   "outputs": [],
   "source": [
    "run_configs = []\n",
    "for member, config in exp_vars.iterrows():\n",
    "    config = config.to_dict()\n",
    "    run_config = gen_run_configs(\n",
    "        run_dir = str(run_dir),\n",
    "        times = times,\n",
    "        member_name = str(member),\n",
    "        t_var_topo=t_var_topo,\n",
    "        e_var_topo=e_var_topo,\n",
    "        t_var_ss=t_var_ss,\n",
    "        e_var_ss=e_var_ss,\n",
    "        e_var_margins=e_var_margins\n",
    "    )\n",
    "    run_configs = run_configs + run_config"
   ]
  },
  {
   "cell_type": "code",
   "execution_count": 53,
   "id": "decimal-valentine",
   "metadata": {},
   "outputs": [],
   "source": [
    "ism = IcesheetModel(\"/nfs/annie/cm15ogp/code/icesheet/binaries/icesheet\")"
   ]
  },
  {
   "cell_type": "code",
   "execution_count": 54,
   "id": "exposed-resort",
   "metadata": {},
   "outputs": [],
   "source": [
    "ism.run_pool(run_configs, cores=24)"
   ]
  },
  {
   "cell_type": "code",
   "execution_count": null,
   "id": "signal-italian",
   "metadata": {},
   "outputs": [],
   "source": []
  },
  {
   "cell_type": "code",
   "execution_count": null,
   "id": "ultimate-anderson",
   "metadata": {},
   "outputs": [],
   "source": []
  }
 ],
 "metadata": {
  "kernelspec": {
   "display_name": "Python 3 (ipykernel)",
   "language": "python",
   "name": "python3"
  },
  "language_info": {
   "codemirror_mode": {
    "name": "ipython",
    "version": 3
   },
   "file_extension": ".py",
   "mimetype": "text/x-python",
   "name": "python",
   "nbconvert_exporter": "python",
   "pygments_lexer": "ipython3",
   "version": "3.9.15"
  }
 },
 "nbformat": 4,
 "nbformat_minor": 5
}
