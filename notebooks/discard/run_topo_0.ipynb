{
 "cells": [
  {
   "cell_type": "code",
   "execution_count": 1,
   "id": "certified-brave",
   "metadata": {},
   "outputs": [],
   "source": [
    "import numpy as np\n",
    "import pandas as pd\n",
    "from pathlib import Path\n",
    "from tqdm.auto import tqdm"
   ]
  },
  {
   "cell_type": "code",
   "execution_count": 2,
   "id": "threatened-trail",
   "metadata": {},
   "outputs": [],
   "source": [
    "from icesea2.experiments import gen_lhs_from_dict, norm_to_values, topography_to_icesheet_nc, gen_run_configs\n",
    "from icesea2.margins import shp_series_to_icesheet\n",
    "from icesea2.shearstress import make_shear_stress_map\n",
    "from icesea2.models import IcesheetModel"
   ]
  },
  {
   "cell_type": "code",
   "execution_count": 3,
   "id": "amateur-gauge",
   "metadata": {},
   "outputs": [],
   "source": [
    "shear_stress_map_name = \"ely_victor_eurasia\"\n",
    "shear_stress_map_file = \"/nfs/annie/cm15ogp/phd/data/shear_stress/eurasia/regions.shp\""
   ]
  },
  {
   "cell_type": "code",
   "execution_count": 4,
   "id": "legislative-sharp",
   "metadata": {},
   "outputs": [],
   "source": [
    "dx = 5000\n",
    "dy = 5000\n",
    "x_min = -1265453.0\n",
    "x_max = 4159547.0\n",
    "y_min = -4722734.8\n",
    "y_max = 1352265.2\n",
    "grid_x = np.arange(x_min, x_max+dx, dx)\n",
    "grid_y = np.arange(y_min, y_max+dy, dy)\n",
    "\n",
    "grid_crs = '+ellps=WGS84 +proj=laea +lon_0=0.0 +lat_0=90 +x_0=0.0 +y_0=0.0 +no_defs'"
   ]
  },
  {
   "cell_type": "code",
   "execution_count": 5,
   "id": "afraid-translator",
   "metadata": {},
   "outputs": [],
   "source": [
    "times = [-140000]"
   ]
  },
  {
   "cell_type": "code",
   "execution_count": 12,
   "id": "secret-accountability",
   "metadata": {},
   "outputs": [],
   "source": [
    "shear_stress_parameters_var_ranges = {\n",
    "    \"g_pgm_ice_streams_ice_stream\": [5000,20000],\n",
    "    \"g_sediment_marine_sediment\": [10000,30000],\n",
    "    \"g_sediment_onshore_sediment\": [30000,100000],\n",
    "    \"g_sediment_bedrock\": [100000,150000],\n",
    "    \"p_ice_stream_interior_dist\": [0,1000],\n",
    "    \"p_cold_ice_shear_stress\": [120000,200000],\n",
    "    \"p_cold_ice_interior_dist\": [1000,300],\n",
    "    \"p_hybrid_ice_stream_shear_stress\": [5000,100000],\n",
    "    \"p_hybrid_ice_stream_dist\": [0,600],\n",
    "}\n",
    "shear_stress_parameters_const = {\n",
    "    \"m_base_map_name\": shear_stress_map_name,\n",
    "    \"m_base_map_file\": shear_stress_map_file,\n",
    "    \"m_gauss_blur\": 1,\n",
    "    \"m_base_value\": 5000,\n",
    "    \"m_combine_pattern\": \"((g_sediment | (g_pgm_ice_streams * p_ice_stream)) | p_hybrid_ice_stream) | p_cold_ice\",\n",
    "    \"g_layers\": [\"sediment\", \"pgm_ice_streams\"],\n",
    "    \"p_processes\": [\"ice_stream\", \"cold_ice\", \"hybrid_ice_stream\"],\n",
    "}"
   ]
  },
  {
   "cell_type": "code",
   "execution_count": 13,
   "id": "timely-inside",
   "metadata": {},
   "outputs": [],
   "source": [
    "lhs_norm_path = \"batchelor/lhs_norm.csv\"\n",
    "lhs_values_path = \"batchelor/lhs_values.csv\"\n",
    "\n",
    "if Path(lhs_norm_path).exists():\n",
    "    lhs = np.genfromtxt(lhs_norm_path, delimiter=\",\", skip_header=1)\n",
    "    lhs_values = np.genfromtxt(lhs_values_path, delimiter=\",\", skip_header=1)\n",
    "else:\n",
    "    lhs = gen_lhs_from_dict(\n",
    "        parameter_dict=shear_stress_parameters_var_ranges,\n",
    "        n_samples=200,\n",
    "        save=lhs_norm_path\n",
    "    )\n",
    "\n",
    "    lhs_values = norm_to_values(\n",
    "        lhs_norm_values=lhs,\n",
    "        parameter_ranges=list(shear_stress_parameters_var_ranges.values()),\n",
    "        parameter_names=list(shear_stress_parameters_var_ranges.keys()),\n",
    "        save=lhs_values_path\n",
    "    )\n",
    "exp_vars = pd.DataFrame(lhs_values, columns=list(shear_stress_parameters_var_ranges.keys()))"
   ]
  },
  {
   "cell_type": "code",
   "execution_count": 8,
   "id": "primary-realtor",
   "metadata": {},
   "outputs": [
    {
     "name": "stdout",
     "output_type": "stream",
     "text": [
      "margin.cpg  margin.dbf\tmargin.prj  margin.shp\tmargin.shx\r\n"
     ]
    }
   ],
   "source": [
    "! ls /nfs/annie/cm15ogp/phd/data/ice_margins/batchelor_quickfix/-140000"
   ]
  },
  {
   "cell_type": "code",
   "execution_count": 9,
   "id": "cutting-maria",
   "metadata": {},
   "outputs": [],
   "source": [
    "margins_name = \"batchelor_mis6\"\n",
    "margins_dir = \"/nfs/annie/cm15ogp/phd/data/ice_margins/batchelor_quickfix\"\n",
    "run_dir = \"/nfs/annie/cm15ogp/phd/projects/2020-12-01_icesheet_calibration/experiments/shearstress_lhs_process/batchelor/\"\n",
    "\n"
   ]
  },
  {
   "cell_type": "code",
   "execution_count": 21,
   "id": "discrete-arctic",
   "metadata": {},
   "outputs": [],
   "source": [
    "t_var_topo = False\n",
    "e_var_topo = False\n",
    "e_var_ss = True\n",
    "t_var_ss = True\n",
    "e_var_margins = False"
   ]
  },
  {
   "cell_type": "code",
   "execution_count": 14,
   "id": "three-prague",
   "metadata": {},
   "outputs": [
    {
     "data": {
      "application/vnd.jupyter.widget-view+json": {
       "model_id": "1651c0986fa9444a83d084b42a0716aa",
       "version_major": 2,
       "version_minor": 0
      },
      "text/plain": [
       "  0%|          | 0/1 [00:00<?, ?it/s]"
      ]
     },
     "metadata": {},
     "output_type": "display_data"
    },
    {
     "data": {
      "application/vnd.jupyter.widget-view+json": {
       "model_id": "6646f5d0f5524f0e9bad249d3f282e02",
       "version_major": 2,
       "version_minor": 0
      },
      "text/plain": [
       "  0%|          | 0/200 [00:00<?, ?it/s]"
      ]
     },
     "metadata": {},
     "output_type": "display_data"
    }
   ],
   "source": [
    "for time in tqdm(times):\n",
    "    margin_filename = str(Path(margins_dir) / str(time) / \"margin.shp\")\n",
    "    shear_stress_parameters_margins = {\n",
    "        \"p_margin_name\": margins_name,\n",
    "        \"p_margin_time\": time,\n",
    "        \"p_margin_file\": margin_filename,\n",
    "    }\n",
    "    for exp_name, values in tqdm(exp_vars.iterrows(), total=len(exp_vars)):\n",
    "        inputs_dir_shear_stress = (\n",
    "            Path(run_dir) / \n",
    "            'inputs' / \n",
    "            'shearstress' / \n",
    "            str(time) / \n",
    "            str(exp_name)\n",
    "        )\n",
    "        inputs_dir_shear_stress.mkdir(exist_ok=True, parents=True)\n",
    "        shear_stress_parameters_var = values.to_dict()\n",
    "        shear_stress_parameters = {\n",
    "            **shear_stress_parameters_const, \n",
    "            **shear_stress_parameters_var, \n",
    "            **shear_stress_parameters_margins,\n",
    "        }\n",
    "\n",
    "        make_shear_stress_map(\n",
    "            grid_x = grid_x, \n",
    "            grid_y = grid_y, \n",
    "            grid_crs = grid_crs, \n",
    "            parameters = shear_stress_parameters,\n",
    "            save=str(inputs_dir_shear_stress / \"shearstress.nc\")\n",
    "        )\n"
   ]
  },
  {
   "cell_type": "code",
   "execution_count": 15,
   "id": "great-tolerance",
   "metadata": {},
   "outputs": [],
   "source": [
    "inputs_dir_margins = (\n",
    "    Path(run_dir) / \n",
    "    'inputs' / \n",
    "    'margins'\n",
    ")\n",
    "inputs_dir_margins.mkdir(exist_ok=True, parents=True)\n",
    "\n",
    "shp_series_to_icesheet(\n",
    "    margins_dir, \n",
    "    grid_crs, \n",
    "    str(inputs_dir_margins), \n",
    "    times=times\n",
    ")"
   ]
  },
  {
   "cell_type": "code",
   "execution_count": 16,
   "id": "adult-payroll",
   "metadata": {},
   "outputs": [],
   "source": [
    "topography_name = \"rtopo2_laea_5km_eurasia\"\n",
    "topography_nc = \"/nfs/annie/cm15ogp/phd/data/topography/rtopo2/rtopo2_laea_5km_eurasia.nc\"\n"
   ]
  },
  {
   "cell_type": "code",
   "execution_count": 17,
   "id": "impossible-access",
   "metadata": {},
   "outputs": [],
   "source": [
    "# topography\n",
    "inputs_dir_topography = (Path(run_dir) / \"inputs/topography\")\n",
    "inputs_dir_topography.mkdir(exist_ok=True, parents=True)\n",
    "topography_to_icesheet_nc(topography_nc=topography_nc, output_dir=inputs_dir_topography)"
   ]
  },
  {
   "cell_type": "code",
   "execution_count": 22,
   "id": "adjustable-duncan",
   "metadata": {},
   "outputs": [],
   "source": [
    "run_configs = []\n",
    "for member, config in exp_vars.iterrows():\n",
    "    config = config.to_dict()\n",
    "    run_config = gen_run_configs(\n",
    "        run_dir = str(run_dir),\n",
    "        times = times,\n",
    "        member_name = str(member),\n",
    "        t_var_topo=t_var_topo,\n",
    "        e_var_topo=e_var_topo,\n",
    "        t_var_ss=t_var_ss,\n",
    "        e_var_ss=e_var_ss,\n",
    "        e_var_margins=e_var_margins\n",
    "    )\n",
    "    run_configs = run_configs + run_config"
   ]
  },
  {
   "cell_type": "code",
   "execution_count": 23,
   "id": "satellite-vancouver",
   "metadata": {},
   "outputs": [
    {
     "data": {
      "text/plain": [
       "(['/nfs/annie/cm15ogp/phd/projects/2020-12-01_icesheet_calibration/experiments/shearstress_lhs_process/batchelor/inputs/margins/-140000.1',\n",
       "  '/nfs/annie/cm15ogp/phd/projects/2020-12-01_icesheet_calibration/experiments/shearstress_lhs_process/batchelor/inputs/margins/-140000.2'],\n",
       " '/nfs/annie/cm15ogp/phd/projects/2020-12-01_icesheet_calibration/experiments/shearstress_lhs_process/batchelor/inputs/shearstress/-140000/0/shearstress.nc',\n",
       " '/nfs/annie/cm15ogp/phd/projects/2020-12-01_icesheet_calibration/experiments/shearstress_lhs_process/batchelor/inputs/topography/topography.nc',\n",
       " '/nfs/annie/cm15ogp/phd/projects/2020-12-01_icesheet_calibration/experiments/shearstress_lhs_process/batchelor/outputs_raw/0/-140000/')"
      ]
     },
     "execution_count": 23,
     "metadata": {},
     "output_type": "execute_result"
    }
   ],
   "source": [
    "run_configs[0]"
   ]
  },
  {
   "cell_type": "code",
   "execution_count": 25,
   "id": "foreign-triumph",
   "metadata": {},
   "outputs": [],
   "source": [
    "ism = IcesheetModel(\"/nfs/annie/cm15ogp/code/icesheet/binaries/icesheet\")\n",
    "ism.run_pool(run_configs, cores=24)"
   ]
  },
  {
   "cell_type": "code",
   "execution_count": null,
   "id": "bigger-ethics",
   "metadata": {},
   "outputs": [],
   "source": []
  }
 ],
 "metadata": {
  "kernelspec": {
   "display_name": "Python 3 (ipykernel)",
   "language": "python",
   "name": "python3"
  },
  "language_info": {
   "codemirror_mode": {
    "name": "ipython",
    "version": 3
   },
   "file_extension": ".py",
   "mimetype": "text/x-python",
   "name": "python",
   "nbconvert_exporter": "python",
   "pygments_lexer": "ipython3",
   "version": "3.9.15"
  }
 },
 "nbformat": 4,
 "nbformat_minor": 5
}
