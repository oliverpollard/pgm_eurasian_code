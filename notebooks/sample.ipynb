{
 "cells": [
  {
   "cell_type": "code",
   "execution_count": 1,
   "id": "fa59b4d9",
   "metadata": {},
   "outputs": [],
   "source": [
    "from SALib.sample import latin\n",
    "import numpy as np\n",
    "import pandas as pd\n",
    "import json"
   ]
  },
  {
   "cell_type": "code",
   "execution_count": 2,
   "id": "50bd1216",
   "metadata": {},
   "outputs": [],
   "source": [
    "def ranges_to_problem(ranges):\n",
    "    problem = {\n",
    "        'num_vars': len(ranges),\n",
    "        'names': list(ranges.keys()),\n",
    "        'bounds': list(ranges.values())\n",
    "    }\n",
    "    return problem\n",
    "\n",
    "param_ranges = {\n",
    "    \"g_pgm_ice_streams_ice_stream\": [5000,20000],\n",
    "    \"g_sediment_marine_sediment\": [10000,30000],\n",
    "    \"g_sediment_onshore_sediment\": [30000,100000],\n",
    "    \"g_sediment_bedrock\": [100000,150000],\n",
    "    \"p_ice_stream_interior_dist\": [0,1000],\n",
    "    \"p_cold_ice_shear_stress\": [120000,200000],\n",
    "    \"p_cold_ice_interior_dist\": [300, 1000],\n",
    "    \"p_hybrid_ice_stream_shear_stress\": [5000,100000],\n",
    "    \"p_hybrid_ice_stream_dist\": [0,600],\n",
    "    \"margin_perc\": [0,1],\n",
    "    \"topo_equilib\": [0.478,1]\n",
    "}\n",
    "problem = ranges_to_problem(param_ranges)"
   ]
  },
  {
   "cell_type": "code",
   "execution_count": 3,
   "id": "5f316d3b",
   "metadata": {},
   "outputs": [],
   "source": [
    "sample = latin.sample(problem, 1000)"
   ]
  },
  {
   "cell_type": "code",
   "execution_count": 4,
   "id": "c6850f2c",
   "metadata": {},
   "outputs": [],
   "source": [
    "sample_df = pd.DataFrame(sample, columns=problem['names'])\n",
    "sample_df.to_csv(\"sample.csv\")"
   ]
  },
  {
   "cell_type": "code",
   "execution_count": 13,
   "id": "4a8ede3f",
   "metadata": {},
   "outputs": [],
   "source": [
    "with open(\"problem.json\", \"w\") as f:\n",
    "    json.dump(problem, f, indent = 4)"
   ]
  },
  {
   "cell_type": "code",
   "execution_count": null,
   "id": "82c0810a",
   "metadata": {},
   "outputs": [],
   "source": []
  }
 ],
 "metadata": {
  "kernelspec": {
   "display_name": "Python 3 (ipykernel)",
   "language": "python",
   "name": "python3"
  },
  "language_info": {
   "codemirror_mode": {
    "name": "ipython",
    "version": 3
   },
   "file_extension": ".py",
   "mimetype": "text/x-python",
   "name": "python",
   "nbconvert_exporter": "python",
   "pygments_lexer": "ipython3",
   "version": "3.10.10"
  }
 },
 "nbformat": 4,
 "nbformat_minor": 5
}
